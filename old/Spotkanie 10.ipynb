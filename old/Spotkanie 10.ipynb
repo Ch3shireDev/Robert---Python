{
 "cells": [
  {
   "cell_type": "markdown",
   "metadata": {},
   "source": [
    "# Spotkanie 10\n",
    "\n",
    "Tym razem zajmiemy się Logią 2017, razem z jednym zadaniem z 2010."
   ]
  },
  {
   "cell_type": "markdown",
   "metadata": {},
   "source": [
    "## Zadanie 1 ( Logia 2010)\n",
    "![](./Logia/etap2/2010/zad1.png)"
   ]
  },
  {
   "cell_type": "markdown",
   "metadata": {},
   "source": [
    "## Rozwiązanie\n",
    "\n",
    "Operacja rysowania domku nie jest trudna, jednak najbardziej skomplikowanym elementem będzie stworzenie algorytmu, który pozwoli na uzyskanie szerokości pojedynczego domku. Warunki są następujące:\n",
    "\n",
    "1. Sumaryczna szerokość domków musi być równa 450 pikseli\n",
    "2. Ostatni domek ma szerokość równą połowie szerokości pierwszego domku\n",
    "3. Każdy kolejny domek jest węższy od poprzedniego.\n",
    "4. Różnica szerokości sąsiednich domków jest stała.\n",
    "\n",
    "Przy analizie zadania przyda się znajomość szeregu arytmetycznego. Szereg arytmetyczny jest definiowany jako suma wyrazów, których sąsiednie elementy są różne o stałą wartość. Tzn:\n",
    "\n",
    "$$S_0 = 1+2+3+4+...+20$$\n",
    "\n",
    "będzie szeregiem arytmetycznym, ponieważ sąsiednie wyrazy w sumie różnią się o stałą wartość, 1.\n",
    "\n",
    "Szukamy zatem równania na szerokość pojedynczego domku. Dla N domków możemy ich szerokości zapisać jako ciąg $(a_1,a_2,...,a_n)$, gdzie $a_i$ są wyrazami ciągu arytmetycznego.\n",
    "\n",
    "- $a_1 = a_1$\n",
    "- $a_2 = a_1 - \\Delta a$\n",
    "- $a_3 = a_1 - 2\\Delta a$\n",
    "- ...\n",
    "\n",
    "Rozmiar ostatniego domku, tj. $a_n$, musi być równy połowie rozmiaru pierwszego domku.\n",
    "\n",
    "$$a_n = a_1 - (n-1)\\Delta a = \\frac12a_1$$\n",
    "\n",
    "Oznacza to, że $\\Delta a = \\frac1{2(n-1)}a_1$.\n",
    "\n",
    "Suma wyrazów $a_i$ musi być równa $L = 450$.\n",
    "\n",
    "$$L = a_1+a_2+...+a_N$$\n",
    "$$ L = N\\cdot a_1 - \\Delta a\\cdot\\big(1+2+...+(N-1)\\big) $$\n",
    "$$ L = N\\cdot a_1 - \\Delta a\\frac{N(N-1)}2$$\n",
    "$$ L = N\\cdot a_1 - \\frac1{2(N-1)}\\frac{N(N-1)}2a_1 = \\frac34Na_1$$\n",
    "\n",
    "zatem $a_1 = \\frac43\\frac LN$."
   ]
  },
  {
   "cell_type": "markdown",
   "metadata": {},
   "source": [
    "## Zadanie 2 (Logia 2017)\n",
    "\n",
    "![](./Logia/etap2/2017/zad1.png)"
   ]
  },
  {
   "cell_type": "markdown",
   "metadata": {},
   "source": [
    "### Podpowiedzi\n",
    "\n",
    "1. Stwórz procedurę rysującą pojedynczą kolumnę z pięcioma żółtymi kwadratami.\n",
    "2. Stwórz procedurę przyjmującą tablicę pięciu zer i jedynek i rysującą żółte lub niebieskie kwadraty w zależności od liczby na danej pozycji.\n",
    "4. Stwórz procedurę która zamiast pozycji przyjmuje literę z powyższej tabeli.\n",
    "5. Stwórz kolejną procedurę która rysuje serię kolumn zamiast pojedynczej.\n",
    "6. Edytuj powyższą procedurę tak, aby rysunek spełniał warunki szerokości i wysokości."
   ]
  },
  {
   "cell_type": "markdown",
   "metadata": {},
   "source": [
    "## Zadanie 3 (Logia 2017)\n",
    "![](./Logia/etap2/2017/zad3.png)"
   ]
  },
  {
   "cell_type": "markdown",
   "metadata": {
    "collapsed": true
   },
   "source": [
    "## Podpowiedzi\n",
    "\n",
    "1. Wypisz w kolejnych liniach litery znajdujące się w kolejnych rzędach.\n",
    "2. Stwórz listę kolejnych linii, razem z odwołaniem do n-tego elementu tych linii. Rozpatrz przypadek braku istnienia n-tego elementu.\n",
    "3. Wypisz w kolejnych liniach zawartość kolejnych kolumn (zamiast kolejnych wierszy)."
   ]
  },
  {
   "cell_type": "code",
   "execution_count": null,
   "metadata": {},
   "outputs": [],
   "source": []
  }
 ],
 "metadata": {
  "kernelspec": {
   "display_name": "PythonX",
   "language": "python",
   "name": "other-env"
  },
  "language_info": {
   "codemirror_mode": {
    "name": "ipython",
    "version": 3
   },
   "file_extension": ".py",
   "mimetype": "text/x-python",
   "name": "python",
   "nbconvert_exporter": "python",
   "pygments_lexer": "ipython3",
   "version": "3.7.0a2"
  }
 },
 "nbformat": 4,
 "nbformat_minor": 2
}
