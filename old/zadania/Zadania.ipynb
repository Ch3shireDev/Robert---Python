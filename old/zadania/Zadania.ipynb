{
 "cells": [
  {
   "cell_type": "markdown",
   "metadata": {},
   "source": [
    "# Zadania\n",
    "\n",
    "## Zadanie 1\n",
    "\n",
    "Z Warszawy do Poznania jest 300 km. Z Warszawy wyjeżdża w stronę Poznania pociąg i jedzie z prędkością 50km/h. Jednocześnie na spotkanie pociągu wylatuje z Poznania samolot i leci z prędkością 200 km/h. Samolot, spotkawszy pociąg, wraca do Poznania, potem znów leci na spotkanie i powtarza to tak długo, aż pociąg osiągnie Poznań. Ile kilometrów przeleciał samolot? "
   ]
  },
  {
   "cell_type": "markdown",
   "metadata": {},
   "source": [
    "## Zadanie 2\n",
    "\n",
    "Samochód pana Jana spala w jeździe miejskiej 10,3 l benzyny na 100 km, a poza miastem 7,2 l na 100 km. Pan Jan wybrał się w podróż do miejscowości oddalonej od jego domu o 600 km. Aby wyjechać z miasta, musi pokonać 32 km. Czy wystarczy mu benzyny, jeżeli zatankuje 47-litrowy bak do pełna? Ile benzyny mu zostanie lub zabraknie? Wynik podaj z dokładnością do 0,1 litra. "
   ]
  },
  {
   "cell_type": "markdown",
   "metadata": {},
   "source": [
    "## Zadanie 3\n",
    "\n",
    "Paweł i Michał zostali wynajęci do namalowania białych linii po obu stronach ulicy Akacjowej. Paweł przyszedł pierwszy i zdążył namalować trzy metry linii po prawej stronie, zanim nadszedł Michał i zasugerował, żeby Paweł zajął się lewą stroną. Paweł zaczął więc od początku, po lewej stronie, a Michał kontynuował po prawej. Kiedy Michał skończył swoją stronę, przeszedł przez jezdnię i domalował brakujące sześć metrów Pawła. Długość obu stron ulicy była taka sama. Kto namalował dłuższą linie i o ile? "
   ]
  },
  {
   "cell_type": "code",
   "execution_count": null,
   "metadata": {
    "collapsed": true
   },
   "outputs": [],
   "source": []
  }
 ],
 "metadata": {
  "kernelspec": {
   "display_name": "Python 3",
   "language": "python",
   "name": "python3"
  },
  "language_info": {
   "codemirror_mode": {
    "name": "ipython",
    "version": 3
   },
   "file_extension": ".py",
   "mimetype": "text/x-python",
   "name": "python",
   "nbconvert_exporter": "python",
   "pygments_lexer": "ipython3",
   "version": "3.6.3"
  }
 },
 "nbformat": 4,
 "nbformat_minor": 2
}
