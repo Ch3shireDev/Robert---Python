{
 "cells": [
  {
   "cell_type": "markdown",
   "metadata": {},
   "source": [
    "# Zadania treningowe\n",
    "\n",
    "## Zadanie 1\n",
    "\n",
    "Napisz procedurę `Tower(n)` dla $n\\geq1, n\\leq20$ która rysuje na ekranie budowlę z sześcianów. Przykładowe wywołania procedury:\n",
    "\n",
    "- dla `tower(3)`:\n",
    "<img src=\"tower3.png\" alt=\"Drawing\" style=\"width: 400px;\"/>\n",
    "\n",
    "- dla `tower(5)`:\n",
    "<img src=\"tower5.png\" alt=\"Drawing\" style=\"width: 400px;\"/>\n",
    "\n",
    "-dla `tower(20)`:\n",
    "<img src=\"tower7.png\" alt=\"Drawing\" style=\"width: 400px;\"/>\n",
    "\n",
    "Szerokość całej budowli jest zawsze równa 600 pikseli. Kąty ostre na rysunku mają zawsze wartość 60 stopni. Relacje szerokości i wysokości w trójkącie równobocznym:\n",
    "\n",
    "<img src=\"rownoboczny.png\" alt=\"Drawing\" style=\"width: 400px;\"/>\n"
   ]
  },
  {
   "cell_type": "markdown",
   "metadata": {},
   "source": [
    "## Zadanie 2\n",
    "\n",
    "Agatka próbuje pokazać jak zrobić z papieru. Do tego potrzebuje funkcji na znajdywanie kolejnych par liczb pierwszych - parę liczb pierwszych definiujemy jako liczby p, q dla których p-q = 2. Na przykład:\n",
    "\n",
    "- 3, 5\n",
    "- 5, 7\n",
    "- 11, 13\n",
    "- 17, 19\n",
    "\n",
    "i tak dalej. Napisz funkcję `WiewiorkaMagda(n)` która dla liczby naturalnej $n\\geq0$ zwraca n-tą parę liczb pierwszych, począwszy od pary (3,5) dla $n=0$. Pierwsze pięć wartości funkcji `WiewiorkaMagda`:\n",
    "\n",
    "- dla n = 0: (3, 5)\n",
    "- n = 1: (5, 7)\n",
    "- n = 2: (11, 13)\n",
    "- n = 3: (17, 19)\n",
    "- n = 4: (29, 31)\n",
    "- n = 5: (41, 43)\n",
    "\n",
    "Podpowiedź: aby funkcja zwróciła parę liczb, należy zastosować skłanię:\n",
    "\n",
    "``\n",
    "def fun():\n",
    "    return (1,2)\n",
    "    ``"
   ]
  },
  {
   "cell_type": "code",
   "execution_count": 28,
   "metadata": {},
   "outputs": [],
   "source": [
    "def primes(n):\n",
    "    tab = [2]\n",
    "    x = 3\n",
    "    if n==0:\n",
    "        return 2\n",
    "    while len(tab) < n+1:\n",
    "        flag = True\n",
    "        for y in tab:\n",
    "            if x%y == 0:\n",
    "                flag = False\n",
    "                break\n",
    "        if flag:\n",
    "            tab += [x]\n",
    "        x+=2\n",
    "    return x-2\n",
    "\n",
    "def para(n):\n",
    "    m = 0\n",
    "    p,q = 3,5\n",
    "    i = 3\n",
    "    while m < n:\n",
    "        p, q = q, primes(i)\n",
    "        i += 1\n",
    "        if q - p == 2:\n",
    "            m += 1\n",
    "    return (p,q)\n"
   ]
  },
  {
   "cell_type": "markdown",
   "metadata": {},
   "source": [
    "## Zadanie 3\n",
    "\n",
    "Stwórz procedurę `Agatka(slowo, n)` wypisującą na ekran 'zagatkowaną' wypowiedź, tj. wypowiedź w której n-te słowo jest pominięte. Przykłady:\n",
    "\n",
    "- `Agatka(\"Jak skutecznie obrać jabłko\", 3)` wypisuje na ekran \"Jak skutecznie jabłko\"\n",
    "- `Agatka(\"Jak zrobić domek z papieru\", 3)` wypisuje \"Jak zrobić z papieru\"\n",
    "- `Agatka(\"Tym razem Agatka wychowuje przed nami dziecko\",4)` wypisuje \"Tym razem Agatka przed nami dziecko\"\n",
    "\n",
    "Zakładamy, że n-te słowo istnieje w zdaniu. Jako słowo uznajemy każdy ciąg liter zaczynający się i kończący spacją (poza pierwszym słowem, które zaczyna się na początku wiadomości i kończy się spacją)."
   ]
  },
  {
   "cell_type": "code",
   "execution_count": 48,
   "metadata": {},
   "outputs": [
    {
     "name": "stdout",
     "output_type": "stream",
     "text": [
      "Jak skutecznie jabłko\n"
     ]
    }
   ],
   "source": [
    "def Agatka(msg, n):\n",
    "    wiadomosc = \"\"\n",
    "    slowo = \"\"\n",
    "    k = 0\n",
    "    j = 0\n",
    "    for a in msg:\n",
    "        j+=1\n",
    "        slowo += a\n",
    "        if a == \" \" or j == len(msg):\n",
    "            if k != n-1:\n",
    "                wiadomosc += slowo\n",
    "            slowo = \"\"\n",
    "            \n",
    "            k += 1\n",
    "    print(wiadomosc)\n",
    "    \n",
    "Agatka(\"Jak skutecznie obrać jabłko\", 3)"
   ]
  }
 ],
 "metadata": {
  "kernelspec": {
   "display_name": "Python 3",
   "language": "python",
   "name": "python3"
  },
  "language_info": {
   "codemirror_mode": {
    "name": "ipython",
    "version": 3
   },
   "file_extension": ".py",
   "mimetype": "text/x-python",
   "name": "python",
   "nbconvert_exporter": "python",
   "pygments_lexer": "ipython3",
   "version": "3.6.3"
  }
 },
 "nbformat": 4,
 "nbformat_minor": 2
}
