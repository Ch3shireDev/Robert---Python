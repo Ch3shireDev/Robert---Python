{
 "cells": [
  {
   "cell_type": "markdown",
   "metadata": {},
   "source": [
    "# Spotkanie 18\n",
    "\n",
    "Tym razem przejdziemy już do rozwiązywania zadań z 3 etapu Logii.\n",
    "\n",
    "## Logia 1996\n",
    "\n",
    "![](./logia/etap3/1996/zad1.png)\n",
    "![](./logia/etap3/1996/zad2.png)\n",
    "![](./logia/etap3/1996/zad3.png)\n",
    "\n",
    "## Logia 1997\n",
    "\n",
    "![](./logia/etap3/1997/zad1.png)\n",
    "![](./logia/etap3/1997/zad2.png)\n",
    "![](./logia/etap3/1997/zad3.png)"
   ]
  }
 ],
 "metadata": {
  "kernelspec": {
   "display_name": "Python 3",
   "language": "python",
   "name": "python3"
  },
  "language_info": {
   "codemirror_mode": {
    "name": "ipython",
    "version": 3
   },
   "file_extension": ".py",
   "mimetype": "text/x-python",
   "name": "python",
   "nbconvert_exporter": "python",
   "pygments_lexer": "ipython3",
   "version": "3.6.3"
  }
 },
 "nbformat": 4,
 "nbformat_minor": 2
}
