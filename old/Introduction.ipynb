{
 "cells": [
  {
   "cell_type": "markdown",
   "metadata": {},
   "source": [
    "# Wprowadzenie do Pythona\n",
    "\n",
    "First things first. Pierwszy program w dowolnym języku programowania to zawsze Hello World, więc od tego zacznijmy. W Pythonie jest to niezwykle proste:"
   ]
  },
  {
   "cell_type": "code",
   "execution_count": 1,
   "metadata": {
    "collapsed": false
   },
   "outputs": [
    {
     "name": "stdout",
     "output_type": "stream",
     "text": [
      "Hello World!\n",
      "Hello World!\n"
     ]
    }
   ],
   "source": [
    "print \"Hello World!\" # dla Pythona 2.7\n",
    "print(\"Hello World!\") #dla Pythona 3.4"
   ]
  },
  {
   "cell_type": "markdown",
   "metadata": {},
   "source": [
    "Dalej: kwestia pisania pętli. Mamy kilka najprostszych pętli warunkowych:"
   ]
  },
  {
   "cell_type": "code",
   "execution_count": 2,
   "metadata": {
    "collapsed": false
   },
   "outputs": [
    {
     "name": "stdout",
     "output_type": "stream",
     "text": [
      "Pętla while wykonuje się tak długo, jak spełniony jest warunek\n",
      "Pętla if wykonuje się raz, jeśli spełniony jest warunek.\n",
      "Jeśli chcemy dodatkowo dopisać pętlę wykonującą się w przeciwnym razie, możemy użyć formatu if-else (jak wyżej)\n",
      "1\n",
      "4\n",
      "Pętla for wykonuje się n razy, raz dla każdego elementu podanej tablicy\n"
     ]
    }
   ],
   "source": [
    "flag = True\n",
    "while flag == True: #albo po prostu while flag:\n",
    "    #do something\n",
    "    flag = False\n",
    "\n",
    "print \"Pętla while wykonuje się tak długo, jak spełniony jest warunek\"\n",
    "\n",
    "if flag == True:\n",
    "    #do something\n",
    "    flag = False\n",
    "else:\n",
    "    flag = True\n",
    "    \n",
    "print \"Pętla if wykonuje się raz, jeśli spełniony jest warunek.\"\n",
    "print \"Jeśli chcemy dodatkowo dopisać pętlę wykonującą się w przeciwnym razie, możemy użyć formatu if-else (jak wyżej)\"\n",
    "\n",
    "for i in range(10):\n",
    "    #do something\n",
    "    if i%3 == 0:\n",
    "        continue\n",
    "    elif i%3 == 1:\n",
    "        #jeśli chcemy użyć pętli if-else i jednocześnie dodać warunek przy wykonywaniu pętli else, zmiast else piszemy elif\n",
    "        print i\n",
    "    elif i == 5:\n",
    "        break\n",
    "    \n",
    "print \"Pętla for wykonuje się n razy, raz dla każdego elementu podanej tablicy\"\n"
   ]
  },
  {
   "cell_type": "markdown",
   "metadata": {},
   "source": [
    "Możliwość wykonywania pętli warunkowych jest fundamentalna dla każdego kompletnego w sensie Turinga języka programowania. Starsze języki również używały instrukcji goto pozwalającej na przejście do konkretnej linijki programu. Ze względu na możliwość wystąpienia błędów przy stosowaniu tej metody ( np. atak raptora: https://xkcd.com/292/ ), obecnie niezalecane jest stosowanie instrukcji goto gdziekolwiek. Z tego względu Python nie ma zaimplementowanej instrukcji goto."
   ]
  },
  {
   "cell_type": "markdown",
   "metadata": {},
   "source": [
    "Żaden język programowania nie jest kompletny bez możliwości definiowania funkcji. W Pythonie funkcje definiuje się następująco:"
   ]
  },
  {
   "cell_type": "code",
   "execution_count": 3,
   "metadata": {
    "collapsed": false
   },
   "outputs": [],
   "source": [
    "def funkcja(x):\n",
    "    x += 1\n",
    "    print x\n",
    "    return x"
   ]
  },
  {
   "cell_type": "markdown",
   "metadata": {},
   "source": [
    "Dalej - nie będziemy w stanie tworzyć użytkowych programów bez zastosowania tablic - ciągów kolejnych wartości. O ile w innych językach programowania tablica zazwyczaj powinna zawierać elementy tego samego typu, dynamiczne typowanie w Pythonie pozwala nam na tworzenie tablic wartości różnych typów."
   ]
  },
  {
   "cell_type": "code",
   "execution_count": 4,
   "metadata": {
    "collapsed": false
   },
   "outputs": [
    {
     "name": "stdout",
     "output_type": "stream",
     "text": [
      "[1, 2, 12, 55]\n",
      "[1, 2, 0.5, True, 'kopytko']\n"
     ]
    }
   ],
   "source": [
    "a = [1, 2, 12, 55]\n",
    "print a\n",
    "b = [1, 2, 0.5, True, \"kopytko\"]\n",
    "print b"
   ]
  },
  {
   "cell_type": "markdown",
   "metadata": {},
   "source": [
    "Teraz główny sekret pętli for - o ile w językach takich jak C pętla for wykonywana jest tak długo jak spełniony jest wewnątrz iterowany warunek (np. for(int i=0;i<10;i++) tworzy zmienną i równą 0, wykonuje pętlę tak długo jak i jest mniejsza niż 10, zwiększa wartość i o 1 co każdą iterację), o tyle w Pythonie przebiega to na innej zasadzie."
   ]
  },
  {
   "cell_type": "code",
   "execution_count": 5,
   "metadata": {
    "collapsed": false
   },
   "outputs": [
    {
     "name": "stdout",
     "output_type": "stream",
     "text": [
      "0\n",
      "1\n",
      "2\n"
     ]
    }
   ],
   "source": [
    "for i in range(3):\n",
    "    print i"
   ]
  },
  {
   "cell_type": "markdown",
   "metadata": {},
   "source": [
    "Co ciekawe, range(3) ma postać samą w sobie:"
   ]
  },
  {
   "cell_type": "code",
   "execution_count": 6,
   "metadata": {
    "collapsed": false
   },
   "outputs": [
    {
     "name": "stdout",
     "output_type": "stream",
     "text": [
      "[0, 1, 2]\n"
     ]
    }
   ],
   "source": [
    "print range(3)"
   ]
  },
  {
   "cell_type": "markdown",
   "metadata": {},
   "source": [
    "range jest funkcją tworzącą tablicę! Zatem pętla for iteruje po wszystkich elementach danej tablicy. Przekonamy się o tym pisząc teraz:"
   ]
  },
  {
   "cell_type": "code",
   "execution_count": 7,
   "metadata": {
    "collapsed": false
   },
   "outputs": [
    {
     "name": "stdout",
     "output_type": "stream",
     "text": [
      "1\n",
      "2\n",
      "kopytko\n",
      "0.5\n"
     ]
    }
   ],
   "source": [
    "for x in [1,2,\"kopytko\",0.5]:\n",
    "    print x"
   ]
  },
  {
   "cell_type": "markdown",
   "metadata": {
    "collapsed": true
   },
   "source": [
    "No dobrze, ale jak możemy stworzyć, na przykład, tablicę stu kolejnych liczb postaci 2*n + 1? Nie będziemy wszystkiego pisać po kolei. Zamiast tego skorzystamy z systemu tworzenia tablicy:"
   ]
  },
  {
   "cell_type": "code",
   "execution_count": 8,
   "metadata": {
    "collapsed": false
   },
   "outputs": [
    {
     "name": "stdout",
     "output_type": "stream",
     "text": [
      "[1, 3, 5, 7, 9, 11, 13, 15, 17, 19, 21, 23, 25, 27, 29, 31, 33, 35, 37, 39, 41, 43, 45, 47, 49, 51, 53, 55, 57, 59, 61, 63, 65, 67, 69, 71, 73, 75, 77, 79, 81, 83, 85, 87, 89, 91, 93, 95, 97, 99, 101, 103, 105, 107, 109, 111, 113, 115, 117, 119, 121, 123, 125, 127, 129, 131, 133, 135, 137, 139, 141, 143, 145, 147, 149, 151, 153, 155, 157, 159, 161, 163, 165, 167, 169, 171, 173, 175, 177, 179, 181, 183, 185, 187, 189, 191, 193, 195, 197, 199]\n"
     ]
    }
   ],
   "source": [
    "tab = [2*n+1 for n in range(100)]\n",
    "print tab"
   ]
  },
  {
   "cell_type": "markdown",
   "metadata": {},
   "source": [
    "Jeśli chcielibyśmy stworzyć tablicę inaczej - np. o niewiadomej liczbie konkretnych elementów, np. jako wynik skomplikowanego procesu - możemy skorzystać z funkcji *append* :"
   ]
  },
  {
   "cell_type": "code",
   "execution_count": 9,
   "metadata": {
    "collapsed": false
   },
   "outputs": [
    {
     "name": "stdout",
     "output_type": "stream",
     "text": [
      "[2, 8, 20, 44, 92, 188, 380, 764]\n"
     ]
    }
   ],
   "source": [
    "tab = []\n",
    "a = 1\n",
    "for i in range(1000):\n",
    "    if i == 0:\n",
    "        continue\n",
    "    if i/a == 2:\n",
    "        a = i+2\n",
    "        tab.append(i)\n",
    "        \n",
    "print tab"
   ]
  },
  {
   "cell_type": "markdown",
   "metadata": {},
   "source": [
    "Ok. Ostatnia, praktycznie najważniejsza funkcja Pythona - rozległe wsparcie ze strony innych modułów. Teraz odrobina teorii - Python jest językiem interpretowanym, tj. komputer zamiast wykonywać proces kompilacji (tłumaczenia skryptu na język procesora) wykonuje program krok po kroku. Z tego względu proces pisania programu jest szybszy (nie tracimy czasu czekając na koniec kompilacji), ale wykonywanie programu jest wolniejsze. Piszę 'wolniejsze', ale jest to zauważalne dopiero przy naprawdę poważnych obliczeniach - przy wykonywaniu tak prostych operacji jak dotychczas spadek wydajności jest niezauważalny,  nawet przy wykonywaniu poważniejszych obliczeń czas wykonywania jest tylko odrobinę dłuższy. O wydajność należy się martwić dopiero przy tworzeniu programów mających działać wiele godzin (np. skomplikowane obliczenia naukowe dedykowane na klastry wielu setek komputerów), albo przy programach z wymogiem jak najszybszego wykonywania (np. gry komputerowe - jeśli chcemy zachować częstotliwość odświeżania 60 klatek na sekundę, operacja wykonywana co klatkę nie może nawet zbliżać się czasem wykonania do 1/60 sekundy).\n",
    "\n",
    "Jednak, Python znajduje tutaj sposób na częściowe ominięcie problemu. Wiele zaawansowanych programów obciążających procesor daje się sprowadzić do konkretnej operacji będącej wąskim gardłem obliczeniowym. Moduły oferują biblioteki funkcji napisanych w innych, wydajniejszych językach, które następnie są przystosowane do używania w Pythonie. Przykład - biblioteka numeryczna **numpy** zawiera obsługę macierzy razem z wieloma ciężkimi obliczeniowo operacjami (np. transformacja Fouriera, proces znajdywania wartości własnych, etc etc). Każda z tych operacji jest napisana w innym, wydajniejszym języku (np. Fortran albo C), po czym przystosowana tak, aby można było ją używać w Pythonie.\n",
    "\n",
    "Biblioteki importujemy w sposób następujący:"
   ]
  },
  {
   "cell_type": "code",
   "execution_count": 10,
   "metadata": {
    "collapsed": false
   },
   "outputs": [
    {
     "name": "stdout",
     "output_type": "stream",
     "text": [
      "[0 1 2 3 4 5 6 7 8 9]\n"
     ]
    }
   ],
   "source": [
    "import numpy\n",
    "tab = numpy.arange(10)\n",
    "print tab"
   ]
  },
  {
   "cell_type": "markdown",
   "metadata": {},
   "source": [
    "Do wewnętrznych funkcji modułu odwołujemy się przez podanie nazwy modułu i odpowiedniej funkcji. Moduły mogą mieć swoje podmoduły, które możemy importować osobno, ale które również są importowane przy importowaniu głównego modułu.\n",
    "\n",
    "Ponieważ niektóre z tych blibiotek mogą mieć długie i skomplikowane nazwy, możemy je odpowiednio aliasować:"
   ]
  },
  {
   "cell_type": "code",
   "execution_count": 11,
   "metadata": {
    "collapsed": false
   },
   "outputs": [],
   "source": [
    "import numpy as np\n",
    "\n",
    "tab = np.arange(100)\n",
    "tab2 = np.fft.fft(tab)"
   ]
  },
  {
   "cell_type": "markdown",
   "metadata": {},
   "source": [
    "Jeśli zależałoby nam tylko na konkretnej funkcji z jakiegoś modułu, nic nie stoi na przeszkodzie aby zaimportować ją osobno:"
   ]
  },
  {
   "cell_type": "code",
   "execution_count": 12,
   "metadata": {
    "collapsed": false
   },
   "outputs": [
    {
     "name": "stdout",
     "output_type": "stream",
     "text": [
      "1.41421356237\n"
     ]
    }
   ],
   "source": [
    "from numpy import sqrt\n",
    "print sqrt(2)"
   ]
  },
  {
   "cell_type": "markdown",
   "metadata": {},
   "source": [
    "Teraz niespodzianka - Python pozwala również na rysowanie grafiki żółwiowej z Logo Komeniusza! W tym celu możemy zaimportować moduł **turtle** lub **mobilechelonian**. Następujący przykład pisany jest na podstawie dokumentu https://github.com/takluyver/mobilechelonian :"
   ]
  },
  {
   "cell_type": "code",
   "execution_count": 13,
   "metadata": {
    "collapsed": false
   },
   "outputs": [],
   "source": [
    "from mobilechelonian import Turtle\n",
    "t = Turtle()\n",
    "t.speed(999)\n",
    "colours=[\"red\",\"blue\",\"yellow\",\"brown\",\"black\",\"purple\",\"green\"]\n",
    "\n",
    "t.penup(); t.left(90); t.forward(200);t.right(90);t.pendown()\n",
    "for i in range (0,18):\n",
    "    t.pencolor(colours[i%7])\n",
    "    t.right(20)\n",
    "    t.forward(50)\n",
    "\n",
    "t.right(180)\n",
    "t.home()"
   ]
  },
  {
   "cell_type": "markdown",
   "metadata": {
    "collapsed": true
   },
   "source": [
    "# Algorytmy i liczby pierwsze\n",
    "\n",
    "Teraz wrócimy do tego co przerabialiśmy na pierwszych zajęciach. Algorytmy na uzyskiwanie liczb pierwszych (źródło: https://pl.wikipedia.org/wiki/Test_pierwszo%C5%9Bci ). Skończyliśmy w środku ataku urodzinowego, wymagającego implementacji algorytmu Euklidesa. Najpierw odrobina teorii:\n",
    "\n",
    "## Algorytm Euklidesa\n",
    "\n",
    "Załóżmy że mamy dwie liczby, $p$ oraz $q$, dla których chcemy znaleźć największy wspólny dzielnik. Bez straty ogólności możemy założyć, że $p > q$ - w przeciwnym wypadku możemy zamienić je miejscami, a jeśli $p = q$ to problem jest zakończony z rozwiązaniem $p$. Ok. Pokazaliśmy, że prawdziwe jest równanie:\n",
    "\n",
    "$$p = a\\cdot q + b,$$\n",
    "\n",
    "gdzie $a = p/q$ (bez reszty) oraz $b = p \\% q$ (reszta z dzielenia). Jeśli $b = 0$ to $p$ dzieli się bez reszty przez $q$, zatem największy wspólny dzielnik w tym wypadku wynosi $q$ - i problem jest zakończony. Jeśli $b\\neq0$, to sprawdzamy teraz, jak $q$ dzieli się przez $b$:\n",
    "\n",
    "$$q = a_1\\cdot b + b_1$$\n",
    "\n",
    "Możemy robić tak $n$ razy, ponieważ każdorazowo para liczb będzie coraz mniejsza, w końcu dotrzemy do momentu, gdy będziemy dzielić lewą liczbę przez $1$ - i wtedy reszta z dzielenia będzie automatycznie równa zero. Możemy udowodnić, że jeśli ustalimy ciąg równań:\n",
    "\n",
    "$$ p = a_0\\cdot q + b_0$$\n",
    "$$ q = a_1\\cdot b_0 + b_1$$\n",
    "$$ b_0 = a_2\\cdot b_1 + b_2$$\n",
    "$$ b_1 = a_3\\cdot b_2 + b_3$$\n",
    "$$...$$\n",
    "$$ b_{n-1} = a_{n+1}\\cdot b_n + b_{n+1},\\qquad b_{n+1}=0$$\n",
    "\n"
   ]
  },
  {
   "cell_type": "markdown",
   "metadata": {},
   "source": [
    "Wiemy że istnieje takie $n$ dla którego ostatnie równanie będzie spełnione (jak dowodziliśmy wcześniej). Załóżmy że $n = 3$ (dla prostoty przykładu):\n",
    "\n",
    "$$b_2 = a_4\\cdot b_3$$\n",
    "\n",
    "Jeśli reszta z dzielenia $b_2$ przez $b_3$ jest równa zero, to $b_3$ jest dzilnikiem $b_2$. W takim razie - $b_1$ jest podzielne przez $b_3$! Istotnie:\n",
    "\n",
    "$$b_1 = a_3\\cdot b_2+b_3$$\n",
    "$$b_1 = a_3\\cdot a_4\\cdot b_3 + b_3$$\n",
    "\n",
    "Identycznie możemy pokazać, że $b_3$ dzieli również $b_0$, $q$ oraz $p$. Zatem jest to nasz poszukiwany wspólny dzielnik.\n",
    "\n",
    "W postaci pythonowej będzie to wyglądało następująco:"
   ]
  },
  {
   "cell_type": "code",
   "execution_count": 35,
   "metadata": {
    "collapsed": false
   },
   "outputs": [
    {
     "name": "stdout",
     "output_type": "stream",
     "text": [
      "5\n",
      "1\n"
     ]
    }
   ],
   "source": [
    "def euklides(p, q):\n",
    "    if q > p:\n",
    "        p, q = q, p #mógłbym to zrobić w znacznie dłuższej formie.\n",
    "                    #to taka pythonowa metoda na zamianę miejscami dwóch liczb\n",
    "    while q != 0:\n",
    "        c = p % q\n",
    "        p = q\n",
    "        q = c\n",
    "    return p\n",
    "\n",
    "print euklides(20,15)\n",
    "print euklides(20,1)"
   ]
  },
  {
   "cell_type": "markdown",
   "metadata": {},
   "source": [
    "Następnie, aby sprawdzić czy dowolna podana liczba jest liczbą pierwszą, możemy sprawdzić jej największy wspólny dzielnik z dowolną inną mniejszą liczbą. Jeśli znajdzie się taka liczba dla której NWD jest większy niż 1, oznacza to że nasza testowana liczba nie jest pierwsza (nie powinna się dzielić przez cokolwiek poza sobą samą i 1!). Jeśli natomiast liczba \"przeżyje\" próby, jest duże prawdopodobieństwo na to że jest liczbą pierwszą."
   ]
  },
  {
   "cell_type": "code",
   "execution_count": 39,
   "metadata": {
    "collapsed": false
   },
   "outputs": [
    {
     "name": "stdout",
     "output_type": "stream",
     "text": [
      "[3, 5, 7, 11, 13, 17, 19, 23, 29, 31, 37, 41, 43, 47, 53, 59, 61, 67, 71, 73, 79, 83, 89, 97]\n"
     ]
    }
   ],
   "source": [
    "from numpy.random import randint\n",
    "\n",
    "def is_prime(n):\n",
    "    for i in range(10000):\n",
    "        a = randint(n-1)+1\n",
    "        x = euklides(n, a) #porównujemy naszą liczbę n z liczbą losową mniejszą od n i większą od 0 \n",
    "        if x > 1: #jeśli NWD jest większy niż 1, liczba n nie jest pierwsza\n",
    "            return False\n",
    "    return True #jeśli n przeżyła wszystkie próby, to prawdopodobnie jest pierwsza\n",
    "\n",
    "tab = []\n",
    "\n",
    "for i in range(3, 100):\n",
    "    if is_prime(i):\n",
    "        tab.append(i)\n",
    "        \n",
    "print tab"
   ]
  }
 ],
 "metadata": {
  "kernelspec": {
   "display_name": "Python 3",
   "language": "python",
   "name": "python3"
  },
  "language_info": {
   "codemirror_mode": {
    "name": "ipython",
    "version": 3
   },
   "file_extension": ".py",
   "mimetype": "text/x-python",
   "name": "python",
   "nbconvert_exporter": "python",
   "pygments_lexer": "ipython3",
   "version": "3.6.0"
  }
 },
 "nbformat": 4,
 "nbformat_minor": 2
}
