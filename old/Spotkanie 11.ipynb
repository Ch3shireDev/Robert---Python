{
 "cells": [
  {
   "cell_type": "markdown",
   "metadata": {},
   "source": [
    "# Spotkanie 11\n",
    "\n",
    "Zadania z 2004 roku.\n",
    "\n",
    "## Zadanie 1 (2004)\n",
    "\n",
    "![](./Logia/etap2/2004/zad1.png)"
   ]
  },
  {
   "cell_type": "markdown",
   "metadata": {},
   "source": [
    "## Podpowiedzi\n",
    "\n",
    "1. Stwórz procedurę rysującą trójkąt prostokątny z kątem 45 stopni.\n",
    "1. Stwórz procedurę rysującą zwyczajny domek z trójkątów.\n",
    "2. Stwórz procedurę rysującą domek w którym konkretne ściany będą zamalowane."
   ]
  },
  {
   "cell_type": "markdown",
   "metadata": {},
   "source": [
    "![](./Logia/etap2/2004/zad2.png)"
   ]
  },
  {
   "cell_type": "markdown",
   "metadata": {},
   "source": [
    "## Podpowiedzi\n",
    "\n",
    "1. Stwórz funkcję zliczającą liczbę kół i krzyżyków.\n",
    "2. Stwórz funkcję sprawdzającą, czy na planszy jest sekwencja wygrywająca.\n",
    "3. Stwórz funkcję sprawdzającą, czy liczba krzyżyków odpowiada liczbie kół z dokładnością do +/- 1."
   ]
  },
  {
   "cell_type": "markdown",
   "metadata": {},
   "source": [
    "![](./Logia/etap2/2004/zad3.png)"
   ]
  },
  {
   "cell_type": "markdown",
   "metadata": {},
   "source": [
    "## Podpowiedzi\n",
    "\n",
    "1. Stwórz dwie funkcje - jedną zwracającą pozycję litery w alfabecie i drugą zwracającą literę na danej pozycji.\n",
    "2. Rozszerz drugą funkcję o przypadek liczby wykraczającej poza liczbę znaków w alfabecie.\n",
    "3. Stwórz funkcję przesuwającą literę o ustaloną liczbę znaków (w sposób cykliczny)\n",
    "4. Stwórz funkcję przyjmującą słowo i przesuwającą każdą z liter o ustaloną liczbę znaków.\n",
    "5. Stwórz funkcję przyjmującą słowo i przesuwającą samogłoski i spółgłoski o ustalone liczby znaków."
   ]
  }
 ],
 "metadata": {
  "kernelspec": {
   "display_name": "PythonX",
   "language": "python",
   "name": "other-env"
  },
  "language_info": {
   "codemirror_mode": {
    "name": "ipython",
    "version": 3
   },
   "file_extension": ".py",
   "mimetype": "text/x-python",
   "name": "python",
   "nbconvert_exporter": "python",
   "pygments_lexer": "ipython3",
   "version": "3.7.0a2"
  }
 },
 "nbformat": 4,
 "nbformat_minor": 2
}
