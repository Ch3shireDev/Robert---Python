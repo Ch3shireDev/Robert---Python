{
 "cells": [
  {
   "cell_type": "markdown",
   "metadata": {},
   "source": [
    "# Spotkanie 9\n",
    "\n",
    "Na tym etapie jedyne co nam pozostaje to uczyć się sprawnego rozwiązywania kolejnych problemów.\n",
    "\n",
    "## Zadanie 1\n",
    "![](./Logia/etap2/2008/zad1.png)"
   ]
  },
  {
   "cell_type": "markdown",
   "metadata": {},
   "source": [
    "### Rozwiązanie przez redukcję\n",
    "\n",
    "#### Paragraf 1\n",
    "Napisz procedurę która przyjmuje ciąg znaków (cyfr) i interpretuje go jako kolejne rzuty jedną kością obydwu chłopców. Procedura wypisuje kolejne rzuty dla obydwu chłopców. Np: dla parametru `1234` uzyskujemy:\n",
    "\n",
    "`Alek: 1, Olek: 2`\n",
    "\n",
    "`Alek: 3, Olek: 4`\n",
    "\n",
    "#### Paragraf 2\n",
    "\n",
    "Zmień powyższą procedurę tak, aby pozwalała na przypadek rzucania więcej niż jedną kością. Np. dla danych wejściowych `12345678` oraz `2` uzyskujemy:\n",
    "\n",
    "`Alek: 1, 2, Olek: 3, 4`\n",
    "\n",
    "`Alek: 5, 6, Olek: 7, 8`\n",
    "\n",
    "#### Paragraf 3\n",
    "\n",
    "Dodaj do powyższej procedury sprawdzanie faktycznego wyniku uzyskanego przez każdego z chłopców w każdej turze razem z informacją kto wygrał.\n",
    "\n",
    "#### Paragraf 4\n",
    "\n",
    "Rozwiąż problem postawiony w zadaniu."
   ]
  },
  {
   "cell_type": "markdown",
   "metadata": {},
   "source": [
    "## Zadanie 2\n",
    "![](./Logia/etap2/2008/zad2.png)"
   ]
  },
  {
   "cell_type": "markdown",
   "metadata": {},
   "source": [
    "#### Paragraf 1\n",
    "\n",
    "Stwórz funkcję znajdującą największy dzielnik danej liczby (mniejszy od niej samej).\n",
    "\n",
    "#### Paragraf 2\n",
    "\n",
    "Stwórz funkcję zwracającą wszystkie dzielniki danej liczby.\n",
    "\n",
    "#### Paragraf 3\n",
    "\n",
    "Stwórz funkcję zwracającą sumę dzielników danej liczby.\n",
    "\n",
    "#### Paragraf 4\n",
    "\n",
    "Rozwiąż zadanie."
   ]
  },
  {
   "cell_type": "markdown",
   "metadata": {},
   "source": [
    "## Zadanie 3\n",
    "![](./Logia/etap2/2008/zad3.png)"
   ]
  },
  {
   "cell_type": "markdown",
   "metadata": {},
   "source": [
    "#### Paragraf 1\n",
    "\n",
    "Stwórz funkcję znajdującą pierwsze i ostatnie miejsce występowania danej litery w słowie. Podpowiedź: rozważ zastosowanie metod `find` oraz `rfind`."
   ]
  },
  {
   "cell_type": "code",
   "execution_count": 4,
   "metadata": {},
   "outputs": [
    {
     "name": "stdout",
     "output_type": "stream",
     "text": [
      "1 7\n"
     ]
    }
   ],
   "source": [
    "str = \"abcdaebbef\"\n",
    "i1 = str.find('b')\n",
    "i2 = str.rfind('b')\n",
    "\n",
    "print(i1,i2)"
   ]
  },
  {
   "cell_type": "markdown",
   "metadata": {},
   "source": [
    "#### Paragraf 2\n",
    "\n",
    "Stwórz funkcję zwracającą odległość między pierwszą i ostatnią pozycją danej litery w słowie.\n",
    "\n",
    "#### Paragraf 3\n",
    "\n",
    "Stwórz funkcję znajdującą literę dla której jest największa odległość między pierwszą a ostatnią pozycją.\n",
    "\n",
    "#### Paragraf 4\n",
    "\n",
    "Rozwiąż zadanie."
   ]
  }
 ],
 "metadata": {
  "kernelspec": {
   "display_name": "Python 3",
   "language": "python",
   "name": "python3"
  },
  "language_info": {
   "codemirror_mode": {
    "name": "ipython",
    "version": 3
   },
   "file_extension": ".py",
   "mimetype": "text/x-python",
   "name": "python",
   "nbconvert_exporter": "python",
   "pygments_lexer": "ipython3",
   "version": "3.6.2"
  }
 },
 "nbformat": 4,
 "nbformat_minor": 2
}
