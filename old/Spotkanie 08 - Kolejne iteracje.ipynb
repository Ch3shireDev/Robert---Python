{
 "cells": [
  {
   "cell_type": "markdown",
   "metadata": {},
   "source": [
    "# Spotkanie 8-9\n",
    "\n",
    "Ponownie zmodyfikujemy nasz paradygmat rozwiązywania zadań. Tym razem zamiast wykonywać pośrednie zadania mające za zadanie posłużyć do ostatecznego rozwiązania (co de facto wymaga prowadzenia za rękę), będziemy rozwiązywać podobne, ale uproszczone wersje zadań - z każdą iteracją problem będzie się stawał coraz bardziej skomplikowany, aż w końcu dotrze do formy pierwotnego zadania."
   ]
  },
  {
   "cell_type": "markdown",
   "metadata": {},
   "source": [
    "## Pole Robota\n",
    "\n",
    "![](pole_robota.png)"
   ]
  },
  {
   "cell_type": "markdown",
   "metadata": {},
   "source": [
    "### Zadanie 1\n",
    "\n",
    "Stwórz funkcję `Dlugosc(trasa_x)` która przyjmuje jednowymiarową trasę robota, a zwraca całkowitą długość przedziału po którym robot się poruszał.\n",
    "\n",
    "Przykład:\n",
    "\n",
    "Robot wystartował z 0, poszedł dwa razy w prawo na pozycję 2 oraz 5 razy w lewo na pozycję -3. Następnie poszedł raz w prawo na pozycję -2 i dwa razy w lewo na -4. Całkowitą trasę można zapisać jako:\n",
    "\n",
    "`trasa_x = [0, 1, 2, 1, 0, -1, -2, -3, -2, -3, -4]`,\n",
    "\n",
    "natomiast wartość funkcji `Dlugosc(trasa_x)` wyniesie w tym wypadku 6.\n",
    "\n",
    "### Zadanie 2\n",
    "\n",
    "Stwórz funkcję `Pole(trasa_x, trasa_y)` która przyjmuje na wejściu kolejne położenia na trasie we współrzędnych $x, y$ a zwraca pole najmniejszego prostokąta zawierającego ową trasę.\n",
    "\n",
    "Przykład:\n",
    "\n",
    "Robot wystartował z położenia $(0,0)$, skierował się do góry na położenie $(0,1)$, dwa razy w lewo na położenia $(-1,1)$ i na $(-2,1)$, a następnie trzy razy do dołu na położenie $(-2,-2)$ i w końcu cztery razy w prawo na $(2,-2)$. Parametry trasy wyglądają następująco:\n",
    "\n",
    "`trasa_x = [0, 0, -1, -2, -2, -2, -2, -1,  0,  1,  2]`\n",
    "\n",
    "`trasa_y = [0, 1,  1,  1,  0, -1, -2, -2, -2, -2, -2]`\n",
    "\n",
    "Zwracana wartość funkcji `Pole(trasa_x, trasa_y)` wynosi 12.\n",
    "\n",
    "### Zadanie 3\n",
    "\n",
    "Zmodyfikuj funkcję `Pole` tak, aby przyjmowała na wejściu łańcuch znaków **g, d, p, l** i automatycznie generowała tablice z trasami."
   ]
  },
  {
   "cell_type": "markdown",
   "metadata": {},
   "source": [
    "## Funkcja MOS (Logia 98, II etap)\n",
    "\n",
    "![](./Logia/etap2/98/zad2.png)"
   ]
  },
  {
   "cell_type": "markdown",
   "metadata": {},
   "source": [
    "### Zad 1\n",
    "\n",
    "Napisz funkcję sprawdzającą czy w danym słowie istnieje przynajmniej jedna samogłoska.\n",
    "\n",
    "### Zad 2\n",
    "\n",
    "Napisz funkcję zwracającą położenie pierwszej samogłoski w słowie, lub -1 w przypadku braku samogłosek.\n",
    "\n",
    "### Zad 3\n",
    "\n",
    "Napisz funkcję zwracającą położenie pierwszej i ostatniej samogłoski w słowie.\n",
    "\n",
    "### Zad 4\n",
    "\n",
    "Napisz funkcję zwracającą odległość między pierwszą i ostatnią samogłoską w słowie, lub -1 w przypadku istnienia mniej niż 2 samogłosek."
   ]
  },
  {
   "cell_type": "code",
   "execution_count": 5,
   "metadata": {},
   "outputs": [
    {
     "name": "stdout",
     "output_type": "stream",
     "text": [
      "1 -1 9\n"
     ]
    }
   ],
   "source": [
    "def MOS(wyraz):\n",
    "    tab = list(wyraz)\n",
    "    a,b = -1, -1\n",
    "    samogloski = ['a','e','i','o','u','y']\n",
    "    for i in range(len(tab)):\n",
    "        x = tab[i]\n",
    "        if x in samogloski:\n",
    "            if a == -1:\n",
    "                a = i\n",
    "            else:\n",
    "                b = i\n",
    "    if a<0 or b<0:\n",
    "        return -1\n",
    "    tab = tab[a+1:b]\n",
    "    return len(tab)\n",
    "\n",
    "a = MOS(\"hokus\")\n",
    "b = MOS(\"nic\")\n",
    "c = MOS(\"abrakadabra\")\n",
    "\n",
    "print(a,b,c)"
   ]
  },
  {
   "cell_type": "markdown",
   "metadata": {},
   "source": [
    "## Ulica (Logia 17, II etap)\n",
    "\n",
    "![](./Logia/etap2/2017/zad2.png)"
   ]
  },
  {
   "cell_type": "markdown",
   "metadata": {},
   "source": [
    "### Zad 1\n",
    "\n",
    "Napisz funkcję która sprawdza, czy dla danej liczby w tablicy istnieje liczba większa o 1, 2 lub 3 i zwraca ją. W przypadku braku danej liczby funkcja zwraca wartość 0.\n",
    "\n",
    "### Zad 2\n",
    "\n",
    "Zmodyfikuj poprzednią funkcję o dodatkową opcję - w przypadku jeśli podana liczba jest największym numerem w tablicy, możliwe są do zwrócenia liczby o wartości 1, 2 lub 3.\n",
    "\n",
    "### Zad 3\n",
    "\n",
    "Napisz funkcję która dla danego indeksu tablicy tworzy proponowane osiedle zaczynające się od numeru pod danym indeksem.\n",
    "\n",
    "### Zad 4\n",
    "\n",
    "Napisz funkcję wypisującą wszystkie możliwe listy osiedli.\n",
    "\n",
    "### Zad 5\n",
    "\n",
    "Napisz funkcję zwracającą długość najdłuższej możliwej listy osiedli."
   ]
  },
  {
   "cell_type": "code",
   "execution_count": 15,
   "metadata": {},
   "outputs": [
    {
     "data": {
      "text/plain": [
       "5"
      ]
     },
     "execution_count": 15,
     "metadata": {},
     "output_type": "execute_result"
    }
   ],
   "source": [
    "def find_next(x, tab):\n",
    "    m = max(tab)\n",
    "    for y in [x%m+1, x%m+2, x%m+3]:\n",
    "        if y in tab:\n",
    "            return y\n",
    "    return -1\n",
    "        \n",
    "\n",
    "def maksos(tab):\n",
    "    N = 0\n",
    "    for x in tab:\n",
    "        n = 1\n",
    "        while n<len(tab):\n",
    "            x = find_next(x,tab)\n",
    "            if x>0:\n",
    "                n+=1\n",
    "            else:\n",
    "                break\n",
    "        if n>N:\n",
    "            N = n\n",
    "    return N\n",
    "        \n",
    "maksos([1,4,7,13,14,15,20])\n",
    "maksos([1,4,7,11,13,14,15,16,20])"
   ]
  },
  {
   "cell_type": "code",
   "execution_count": null,
   "metadata": {
    "collapsed": true
   },
   "outputs": [],
   "source": []
  }
 ],
 "metadata": {
  "kernelspec": {
   "display_name": "Python 3",
   "language": "python",
   "name": "python3"
  },
  "language_info": {
   "codemirror_mode": {
    "name": "ipython",
    "version": 3
   },
   "file_extension": ".py",
   "mimetype": "text/x-python",
   "name": "python",
   "nbconvert_exporter": "python",
   "pygments_lexer": "ipython3",
   "version": "3.6.2"
  }
 },
 "nbformat": 4,
 "nbformat_minor": 2
}
