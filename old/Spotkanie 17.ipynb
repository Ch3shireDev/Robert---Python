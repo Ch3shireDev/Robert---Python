{
 "cells": [
  {
   "cell_type": "markdown",
   "metadata": {},
   "source": [
    "# Spotkanie 17\n",
    "\n",
    "![](./Logia/etap2/2000/zad1.png)\n",
    "![](./Logia/etap2/2000/zad2.png)\n",
    "![](./Logia/etap2/2000/zad3.png)\n",
    "\n",
    "# Logia 2001\n",
    "![](./Logia/etap2/2001/zad1.png)\n",
    "![](./Logia/etap2/2001/zad2.png)\n",
    "![](./Logia/etap2/2001/zad3.png)\n",
    "# Logia 2002\n",
    "![](./Logia/etap2/2002/zad1.png)\n",
    "![](./Logia/etap2/2002/zad2.png)\n",
    "![](./Logia/etap2/2002/zad3.png)\n",
    "# Logia 2003\n",
    "![](./Logia/etap2/2003/zad1.png)\n",
    "![](./Logia/etap2/2003/zad2.png)\n",
    "![](./Logia/etap2/2003/zad3.png)"
   ]
  }
 ],
 "metadata": {
  "kernelspec": {
   "display_name": "Python 3",
   "language": "python",
   "name": "python3"
  },
  "language_info": {
   "codemirror_mode": {
    "name": "ipython",
    "version": 3
   },
   "file_extension": ".py",
   "mimetype": "text/x-python",
   "name": "python",
   "nbconvert_exporter": "python",
   "pygments_lexer": "ipython3",
   "version": "3.6.3"
  }
 },
 "nbformat": 4,
 "nbformat_minor": 2
}
