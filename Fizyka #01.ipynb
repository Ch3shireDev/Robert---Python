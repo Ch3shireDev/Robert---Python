{
 "cells": [
  {
   "cell_type": "markdown",
   "metadata": {},
   "source": [
    "# Fizyka #01\n",
    "\n",
    "\n",
    "## Pomiary\n",
    "\n",
    "![](wstep.jpg)\n",
    "\n",
    "- pomiary w fizyce, wzorce pomiarowe\n",
    "- podstawowe mierzone wartości\n",
    "- jednostki SI:\n",
    "    - A \tamper \tnatężenie prądu elektrycznego\n",
    "    - K \tkelwin \ttemperatura\n",
    "    - s \tsekunda \tczas\n",
    "    - m \tmetr \tdługość\n",
    "    - kg \tkilogram \tmasa\n",
    "    - cd \tkandela \tświatłość źródła światła\n",
    "    - mol \tmol \tliczność materii\n",
    "    "
   ]
  },
  {
   "cell_type": "markdown",
   "metadata": {},
   "source": [
    "## Kinematyka\n",
    "\n",
    "Podstawowe pojęcia - położenie, prędkość, przyspieszenie. Ruch prostoliniowy - jednowymiarowy przypadek. Ruch krzywoliniowy - przypadek dwuwymiarowy i więcej.\n",
    "\n",
    "1. Rysowanie wykresów prędkości od czasu, drogi od czasu.\n",
    "2. Wyliczanie prędkosci na podstawie przesunięć.\n",
    "3. Sumowanie prędkości - przypadek jednowymiarowy, wielowymiarowy.\n",
    "4. Wyliczanie drogi na podstawie wykresu prędkości."
   ]
  },
  {
   "cell_type": "markdown",
   "metadata": {},
   "source": [
    "### Zadania\n",
    "\n",
    "![](./z-01.png)\n",
    "![](./z-02.png)\n",
    "![](./z-03.png)\n",
    "![](./z-04.png)\n",
    "![](./z-05.png)\n",
    "![](./z-06.png)\n",
    "![](./z-07.png)\n",
    "![](./z-08.png)\n",
    "![](./z-09.png)\n",
    "![](./z-10.png)\n",
    "![](./z-11.png)"
   ]
  },
  {
   "cell_type": "markdown",
   "metadata": {},
   "source": [
    "### Trudniejsze zadania\n",
    "\n",
    "1. Samochód jadący z miasta A do odległego o 100 km miasta B przebywa pierwsze 40 km drogi z prędkością 80 km/h, następnie zas 60 km drogi z prędkością 30 km/h. Obliczyć średnią prędkość samochodu, sprządzić wykresy drogi od czasu i prędkości od czasu.\n",
    "\n",
    "2. Łódź płynie (z włączonym silnikiem) z prądem rzeki z przystani A do B w czasie 3 h, a z B do A w czasie 6 h. Ile czasu trzeba, aby łódż spłynęła z A do B z wyłączonym silnikiem?"
   ]
  }
 ],
 "metadata": {
  "kernelspec": {
   "display_name": "Python 3",
   "language": "python",
   "name": "python3"
  },
  "language_info": {
   "codemirror_mode": {
    "name": "ipython",
    "version": 3
   },
   "file_extension": ".py",
   "mimetype": "text/x-python",
   "name": "python",
   "nbconvert_exporter": "python",
   "pygments_lexer": "ipython3",
   "version": "3.7.4"
  }
 },
 "nbformat": 4,
 "nbformat_minor": 2
}
