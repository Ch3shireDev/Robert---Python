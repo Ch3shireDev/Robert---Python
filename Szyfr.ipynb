{
 "cells": [
  {
   "cell_type": "markdown",
   "metadata": {},
   "source": [
    "# Szyfr Nihilistów\n",
    "\n",
    "Szyfr Nihilistów jest szyfrem podstawieniowym z podwójnym kluczem używany przez członków rosyjskiego ruchu nihilistów w 2 połowie XIX wieku. Do zaszyfrowania tekstu używa się dwóch słów-kluczy (np. klucz 1: WIKIPEDIA, klucz 2: SZACHY).\n",
    "Przy pomocy pierwszego klucza tworzy się szachownicę Polibiusza – w komórki tabeli należy wpisać najpierw słowo-klucz (opuszczając powtarzające się litery – w przykładzie literę I), a następnie uzupełnić tabelę pozostałymi literami alfabetu. Litera J nie występuje w szachownicy – w tekstach szyfrowanych zastępuje ją litera I. \n",
    "![](nihilisci.png)"
   ]
  },
  {
   "cell_type": "markdown",
   "metadata": {},
   "source": [
    "Używając powstałej tablicy przeprowadza się pierwsze szyfrowanie tekstu jawnego (np. SZYFROWANIE Z DWOMA KLUCZAMI).\n",
    "Litery należy zamienić na dwucyfrowe liczby opisujące ich położenie na szachownicy (w układzie wiersz+kolumna).\n",
    "![](nihil2.png)"
   ]
  },
  {
   "cell_type": "markdown",
   "metadata": {},
   "source": [
    "Teraz, używając szachownicy i drugiego słowa-klucza, należy stworzyć klucz numeryczny, który będzie potrzebny do drugiego przekształcenia tekstu szyfrowanego. "
   ]
  },
  {
   "cell_type": "markdown",
   "metadata": {},
   "source": [
    "![](nihil3.png)"
   ]
  },
  {
   "cell_type": "markdown",
   "metadata": {},
   "source": [
    "Klucz numeryczny wpisuje się pod liczbami szyfru tyle razy, aby wyrównać długość tekstu zaszyfrowanego, a następnie dodaje się do siebie liczby tekstu i klucza. "
   ]
  },
  {
   "cell_type": "markdown",
   "metadata": {},
   "source": [
    "![](nihil4.png)"
   ]
  },
  {
   "cell_type": "markdown",
   "metadata": {},
   "source": [
    "Po dodaniu liczb z pierwszego szyfrowania i klucza numerycznego powstaje ostatecznie zaszyfrowany tekst:\n",
    "88, 110, 76, 49, 75, 95, 55, 77, 57, 36, 47, 109, 65, 66, 63, 58, 54, 67, 76, 106, 46, 79, 54, 88, 56.\n",
    "\n",
    "Odbiorca zaszyfrowanego tekstu zna oba słowa klucze, więc tworzy szachownicę i klucz numeryczny, odejmuje liczby klucza numerycznego od liczb z otrzymanego tekstu, a następnie przy pomocy szachownicy odczytuje tekst jawny. "
   ]
  },
  {
   "cell_type": "markdown",
   "metadata": {},
   "source": [
    "## Zadania\n",
    "\n",
    "1. Zaimplementuj podany wyżej szyfr do funkcji `nihilism(wiadomosc, klucz1, klucz2)`, zwracającej na wyjściu listę liczb.\n",
    "2. Zaimplementuj funkcję deszyfrującą `meaning(szyfr, klucz1, klucz2)`, przyjmującą na wejściu listę liczb i obydwa klucze, a zwracającą wyjściową wiadomość tekstową.\n",
    "\n"
   ]
  },
  {
   "cell_type": "markdown",
   "metadata": {},
   "source": [
    "## Przykładowe rozwiązania\n",
    "\n",
    "- `nihilism('szyfrowaniezdwomakluczami', 'wikipedia', 'szachy')` zwraca wartość `[88, 110, 76, 49, 75, 95, 55, 77, 57, 36, 47, 109, 65, 66, 63, 58, 54, 67, 76, 106, 46, 79, 54, 88, 56]`."
   ]
  }
 ],
 "metadata": {
  "kernelspec": {
   "display_name": "Python 3",
   "language": "python",
   "name": "python3"
  },
  "language_info": {
   "codemirror_mode": {
    "name": "ipython",
    "version": 3
   },
   "file_extension": ".py",
   "mimetype": "text/x-python",
   "name": "python",
   "nbconvert_exporter": "python",
   "pygments_lexer": "ipython3",
   "version": "3.6.0"
  }
 },
 "nbformat": 4,
 "nbformat_minor": 2
}
