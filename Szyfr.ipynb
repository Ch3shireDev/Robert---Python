{
 "cells": [
  {
   "cell_type": "markdown",
   "metadata": {},
   "source": [
    "# Szyfr Nihilistów\n",
    "\n",
    "Szyfr Nihilistów jest szyfrem podstawieniowym z podwójnym kluczem używany przez członków rosyjskiego ruchu nihilistów w 2 połowie XIX wieku. Do zaszyfrowania tekstu używa się dwóch słów-kluczy (np. klucz 1: WIKIPEDIA, klucz 2: SZACHY).\n",
    "Przy pomocy pierwszego klucza tworzy się szachownicę Polibiusza – w komórki tabeli należy wpisać najpierw słowo-klucz (opuszczając powtarzające się litery – w przykładzie literę I), a następnie uzupełnić tabelę pozostałymi literami alfabetu. Litera J nie występuje w szachownicy – w tekstach szyfrowanych zastępuje ją litera I. \n",
    "![](nihilisci.png)"
   ]
  },
  {
   "cell_type": "markdown",
   "metadata": {},
   "source": [
    "Używając powstałej tablicy przeprowadza się pierwsze szyfrowanie tekstu jawnego (np. SZYFROWANIE Z DWOMA KLUCZAMI).\n",
    "Litery należy zamienić na dwucyfrowe liczby opisujące ich położenie na szachownicy (w układzie wiersz+kolumna).\n",
    "![](nihil2.png)"
   ]
  },
  {
   "cell_type": "markdown",
   "metadata": {},
   "source": [
    "Teraz, używając szachownicy i drugiego słowa-klucza, należy stworzyć klucz numeryczny, który będzie potrzebny do drugiego przekształcenia tekstu szyfrowanego. "
   ]
  },
  {
   "cell_type": "markdown",
   "metadata": {},
   "source": [
    "![](nihil3.png)"
   ]
  },
  {
   "cell_type": "markdown",
   "metadata": {},
   "source": [
    "Klucz numeryczny wpisuje się pod liczbami szyfru tyle razy, aby wyrównać długość tekstu zaszyfrowanego, a następnie dodaje się do siebie liczby tekstu i klucza. "
   ]
  },
  {
   "cell_type": "markdown",
   "metadata": {},
   "source": [
    "![](nihil4.png)"
   ]
  },
  {
   "cell_type": "markdown",
   "metadata": {},
   "source": [
    "Po dodaniu liczb z pierwszego szyfrowania i klucza numerycznego powstaje ostatecznie zaszyfrowany tekst:\n",
    "88, 110, 76, 49, 75, 95, 55, 77, 57, 36, 47, 109, 65, 66, 63, 58, 54, 67, 77, 106, 46, 79, 54, 88, 56.\n",
    "\n",
    "Odbiorca zaszyfrowanego tekstu zna oba słowa klucze, więc tworzy szachownicę i klucz numeryczny, odejmuje liczby klucza numerycznego od liczb z otrzymanego tekstu, a następnie przy pomocy szachownicy odczytuje tekst jawny. "
   ]
  },
  {
   "cell_type": "markdown",
   "metadata": {},
   "source": [
    "## Zadania\n",
    "\n",
    "1. Zaimplementuj podany wyżej szyfr do funkcji `nihilism(wiadomosc, klucz1, klucz2)`, zwracającej na wyjściu listę liczb.\n",
    "2. Zaimplementuj funkcję deszyfrującą `meaning(szyfr, klucz1, klucz2)`, przyjmującą na wejściu listę liczb i obydwa klucze, a zwracającą wyjściową wiadomość tekstową.\n",
    "\n"
   ]
  },
  {
   "cell_type": "markdown",
   "metadata": {},
   "source": [
    "## Przykładowe rozwiązania\n",
    "\n",
    "- `nihilism('szyfrowaniezdwomakluczami', 'wikipedia', 'szachy')` zwraca wartość `[88, 110, 76, 49, 75, 95, 55, 77, 57, 36, 47, 109, 65, 66, 63, 58, 54, 67, 77, 106, 46, 79, 54, 88, 56]`."
   ]
  },
  {
   "cell_type": "markdown",
   "metadata": {},
   "source": [
    "# Szyfr Vernama\n",
    "\n",
    "Szyfr Vernama, szyfr doskonały, szyfr One-time pad lub OTP jest jedyną sprawdzoną metodą kryptograficzną, która umożliwia bezwarunkowo bezpieczne szyfrowanie, co zostało udowodnione matematycznie. Polega na wprowadzeniu losowego klucza o długości szyfrowanego tekstu. Za pomocą naszego kodera zarówno zaszyfrujesz oraz odszyfrujesz każdy tekst szyfrem Vernama. \n",
    "\n",
    "W [[1917]] Vernam skonstruował urządzenie do łączności telegraficznej korzystającej z 32-znakowego [[Kod Baudot|kodu Baudota]]. Każdy znak kodu jest kombinacją pięciu sygnałów lub ich braku, co odpowiada bitom 1 i 0 w komputerach. Niepowtarzalny, losowy ciąg znaków klucza jest wyperforowany na taśmie papierowej i każdy bit tekstu jawnego jest dodawany modulo 2 do kolejnego bitu klucza.\n",
    "\n",
    "Polega na tym, że każdy [[bit]] wiadomości $M = m_1, m_2, m_3, ..., m_n$ dodajemy modulo 2 (funkcja [[Alternatywa rozłączna|XOR]]) z bitem pochodzącym z idealnego generatora losowego $K = k_1, k_2, k_3, ..., k_n$. Taki generator można traktować jako ciąg losowy $n$ doświadczeń Bernoulliego prawdopodobieństwem $\\frac12$ (np. rzut symetryczną monetą). Szyfrogram $C = c_1, c_2, c_3, ..., c_n$ odczytujemy w analogiczny sposób, wykorzystując ciąg bitów wygenerowany przy szyfrowaniu:\n",
    "\n",
    "$$\\begin{align}c_i &= m_i \\dot\\lor k_i\\\\\n",
    "m_i &= c_i \\dot\\lor k_i\\\\\n",
    "i&\\in\\left\\{1, 2, 3, ..., n\\right\\}\\end{align}$$\n",
    "\n",
    "Na podstawie twierdzenia: **jeżeli dwie zmienne losowe $X_1$ i $X_2$ są niezależne i $X_2$ ma [rozkład jednostajny nad $\\{0,1\\}$, to $Y = X_1 \\dot\\lor X_2$ ma rozkład jednostajny nad $\\{0,1\\}$** otrzymujemy wiadomość zaszyfrowaną. Idealność szyfru polega na tym, że wnioskowanie o następnym bicie szyfrogramu możliwe jest jedynie z prawdopodobieństwem równym $\\frac12$. Innymi słowy nie ma żadnej metody, która pozwoliłaby powiększyć szansę zgadnięcia następnego bitu szyfrogramu nad ślepy traf.\n",
    "## Przykład\n",
    "\n",
    "Załóżmy, że:\n",
    "* Ciąg bitów tekstu jawnego: $M=m_1 m_2\\dots$\n",
    "* Ciąg bitów klucza: $K=k_1 k_2\\dots$\n",
    "\n",
    "Wtedy szyfr Vernama generuje ciąg bitów kryptogramu $C=EK(M)=c_1c_2\\dots$, gdzie $c_i= (m_i + k_i) \\mod {2}$ dla $i = 1, 2, 3\\dots$\n",
    "* Litera tekstu jawnego A (11000 w kodzie Baudota)\n",
    "* Litera klucza D (10010 w kodzie Baudota)\n",
    "\n",
    "Szyfrowanie polega na dodaniu litery tekstu jawnego do litery klucza\n",
    ":\n",
    "\n",
    "$\\begin{align}\n",
    "M&=11000 \\\\\n",
    "K&=10010\\\\\n",
    "EK(M)&=01010\n",
    "\\end{align}$\n",
    "\n",
    "## Zadanie\n",
    "\n",
    "Stwórz funkcje szyfrujące i deszyfrujące `vernam_encryption(wiadomosc, klucz)`, `vernam_decryption(szyfr, klucz)` wykorzystujące szyfr Vernama.\n",
    "\n",
    "\n",
    "### Przykłady\n",
    "\n",
    "- `vernam_encryption(\"ZYRAFYWCHODZADOSZAFY\", \"LMPAQLHJCOQKMQJQQIRL\")` powinno zwrócić `KKGAVJDLJCTJMTXIPIWJ`\n",
    "- `vernam_decryption(\"KKGAVJDLJCTJMTXIPIWJ\", \"LMPAQLHJCOQKMQJQQIRL\")` powinno zwrócić `ZYRAFYWCHODZADOSZAFY`"
   ]
  }
 ],
 "metadata": {
  "kernelspec": {
   "display_name": "Python 3",
   "language": "python",
   "name": "python3"
  },
  "language_info": {
   "codemirror_mode": {
    "name": "ipython",
    "version": 3
   },
   "file_extension": ".py",
   "mimetype": "text/x-python",
   "name": "python",
   "nbconvert_exporter": "python",
   "pygments_lexer": "ipython3",
   "version": "3.6.6"
  }
 },
 "nbformat": 4,
 "nbformat_minor": 2
}
