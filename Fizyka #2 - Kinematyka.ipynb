{
 "cells": [
  {
   "cell_type": "markdown",
   "metadata": {},
   "source": [
    "# Wstęp do kinematyki\n",
    "\n"
   ]
  },
  {
   "cell_type": "markdown",
   "metadata": {},
   "source": [
    "## Ruch jednostajny prostoliniowy\n",
    "\n",
    "### Zadanie\n",
    "Autobus skręca w lewo. Prawe i lewe koło przebywa na zakręcie:\n",
    "\n",
    "a) jednakowe drogi\n",
    "\n",
    "b) różne drogi. Koło prawe przebywa dłuższą drogę.\n",
    "\n",
    "c) różne drogi. Koło lewe przebywa dłuższą drogę\n"
   ]
  },
  {
   "cell_type": "markdown",
   "metadata": {},
   "source": [
    "### Zadanie\n",
    "\n",
    "Kasia i Tomek chodzili po lesie. Kasia przebyła drogę 12 km w czasie 2 godzin i 10 minut, a Tomek przebył drogę 18km w czasie 3 godzin i 35 minut. Które z nich poruszało się z większą średnią prędkością?"
   ]
  },
  {
   "cell_type": "markdown",
   "metadata": {},
   "source": [
    "### Zadanie\n",
    "\n",
    "Motocykl w ciągu 15 minut przebył drogę 18km. Jaką drogę pokona w 2,5 godziny, jeśli będzie się poruszał z taką samą prędkością jak na początku ruchu."
   ]
  },
  {
   "cell_type": "markdown",
   "metadata": {},
   "source": [
    "### Zadanie 1\n",
    "\n",
    "![](./data/zadania/zadanie-001.png)\n",
    "\n",
    "Dla ustalenia uwagi, rozwiążmy najpierw prostsze zadanie:\n",
    "\n",
    "Dwa samochody jadą autostradą. Samochód A jest przed samochodem B o 20 km i porusza się z prędkością 40 km/h. Drugi samochód jest za pierwszym samochodem, porusza się z prędkością 80 km/h. Po jakim czasie obydwa samochody się spotkają? Jaką odległość musi przejechać samochód B by doprowadzić do spotkania?"
   ]
  },
  {
   "cell_type": "markdown",
   "metadata": {},
   "source": [
    "### Zadanie 2\n",
    "\n",
    "![](./data/zadania/zadanie-002.png)\n",
    "\n",
    "Ponownie, prostszy wariant zadania:\n",
    "\n",
    "#### Zadanie 2a\n",
    "\n",
    "Dwa pociągi - jeden ma 100 metrów długości i porusza się z prędkością 20 m/s, drugi ma 60 metrów długości i porusza się z prędkością 30 m/s. Oblicz ile czasu pociągi będą się mijały, jeśli:\n",
    "\n",
    "1. jadą w tym samym kierunku\n",
    "2. jadą w kierunkach przeciwnych\n",
    "\n",
    "#### Zadanie 2b\n",
    "\n",
    "Pociąg A o długości 100 metrów mija się z pociągiem B jadącym z naprzeciwka (v = 10 m/s) o długości 50 metrów, przez 2 sekuny. Oblicz, z jaką prędkością porusza się pociąg A.\n"
   ]
  },
  {
   "cell_type": "markdown",
   "metadata": {},
   "source": [
    "### Zadanie 3\n",
    "\n",
    "![](./data/zadania/zadanie-003.png)\n",
    "![](./data/zadania/zadanie-004.png)"
   ]
  },
  {
   "cell_type": "markdown",
   "metadata": {},
   "source": [
    "### Zadanie 4\n",
    "\n",
    "![](./data/zadania/zadanie-005.png)"
   ]
  },
  {
   "cell_type": "markdown",
   "metadata": {},
   "source": [
    "### Zadanie 5\n",
    "\n",
    "![](./data/zadania/zadanie-006.png)"
   ]
  },
  {
   "cell_type": "markdown",
   "metadata": {},
   "source": [
    "### Zadanie 6\n",
    "\n",
    "![](./data/zadania/zadanie-007.png)"
   ]
  },
  {
   "cell_type": "markdown",
   "metadata": {},
   "source": [
    "### Zadanie 7\n",
    "\n",
    "\n",
    "![](./data/zadania/zadanie-008.png)"
   ]
  },
  {
   "cell_type": "markdown",
   "metadata": {},
   "source": [
    "### Zadanie 8\n",
    "\n",
    "![](./data/zadania/zadanie-009.png)\n",
    "![](./data/zadania/zadanie-010.png)"
   ]
  },
  {
   "cell_type": "markdown",
   "metadata": {},
   "source": [
    "### Zadanie 9\n",
    "\n",
    "![](./data/zadania/zadanie-011.png)"
   ]
  },
  {
   "cell_type": "markdown",
   "metadata": {},
   "source": [
    "### Zadanie 10\n",
    "\n",
    "![](./data/zadania/zadanie-012.png)"
   ]
  },
  {
   "cell_type": "markdown",
   "metadata": {},
   "source": [
    "### Zadanie 11\n",
    "\n",
    "![](./data/zadania/zadanie-013.png)"
   ]
  },
  {
   "cell_type": "markdown",
   "metadata": {},
   "source": [
    "### Zadanie 12\n",
    "\n",
    "![](./data/zadania/zadanie-014.png)"
   ]
  },
  {
   "cell_type": "markdown",
   "metadata": {},
   "source": [
    "### Zadanie 13\n",
    "\n",
    "![](./data/zadania/zadanie-015.png)"
   ]
  },
  {
   "cell_type": "markdown",
   "metadata": {},
   "source": [
    "### Zadanie 14\n",
    "\n",
    "![](./data/zadania/zadanie-016.png)"
   ]
  },
  {
   "cell_type": "markdown",
   "metadata": {},
   "source": [
    "### Zadanie 15\n",
    "\n",
    "![](./data/zadania/zadanie-017.png)"
   ]
  },
  {
   "cell_type": "markdown",
   "metadata": {},
   "source": [
    "### Zadanie 16\n",
    "\n",
    "![](./data/zadania/zadanie-018.png)"
   ]
  },
  {
   "cell_type": "markdown",
   "metadata": {},
   "source": [
    "### Zadanie 17\n",
    "\n",
    "![](./data/zadania/zadanie-019.png)"
   ]
  },
  {
   "cell_type": "markdown",
   "metadata": {},
   "source": [
    "### Zadanie 18\n",
    "\n",
    "![](./data/zadania/zadanie-020.png)"
   ]
  },
  {
   "cell_type": "markdown",
   "metadata": {},
   "source": [
    "### Zadanie 19\n",
    "\n",
    "![](./data/zadania/zadanie-021.png)"
   ]
  },
  {
   "cell_type": "markdown",
   "metadata": {},
   "source": [
    "### Zadanie 20\n",
    "\n",
    "![](./data/zadania/zadanie-022.png)"
   ]
  },
  {
   "cell_type": "markdown",
   "metadata": {},
   "source": [
    "### Zadanie 21\n",
    "\n",
    "![](./data/zadania/zadanie-023.png)"
   ]
  },
  {
   "cell_type": "markdown",
   "metadata": {},
   "source": [
    "### Zadanie 22\n",
    "![](./data/zadania/zadanie-024.png)"
   ]
  },
  {
   "cell_type": "markdown",
   "metadata": {},
   "source": [
    "### Zadanie 23\n",
    "![](./data/zadania/zadanie-025.png)"
   ]
  },
  {
   "cell_type": "markdown",
   "metadata": {},
   "source": [
    "### Zadanie 24\n",
    "![](./data/zadania/zadanie-026.png)"
   ]
  },
  {
   "cell_type": "markdown",
   "metadata": {},
   "source": [
    "## Ruch jednostajnie zmienny"
   ]
  },
  {
   "cell_type": "markdown",
   "metadata": {},
   "source": [
    "### Zadanie 1\n",
    "![](./data/zadania/zadanie-027.png)"
   ]
  },
  {
   "cell_type": "markdown",
   "metadata": {},
   "source": [
    "### Zadanie 2\n",
    "![](./data/zadania/zadanie-028.png)"
   ]
  },
  {
   "cell_type": "markdown",
   "metadata": {},
   "source": [
    "### Zadanie 3\n",
    "![](./data/zadania/zadanie-029.png)"
   ]
  },
  {
   "cell_type": "markdown",
   "metadata": {},
   "source": [
    "### Zadanie 4\n",
    "![](./data/zadania/zadanie-030.png)"
   ]
  },
  {
   "cell_type": "markdown",
   "metadata": {},
   "source": [
    "### Zadanie 5\n",
    "![](./data/zadania/zadanie-031.png)"
   ]
  },
  {
   "cell_type": "markdown",
   "metadata": {},
   "source": [
    "### Zadanie 6\n",
    "![](./data/zadania/zadanie-032.png)"
   ]
  },
  {
   "cell_type": "markdown",
   "metadata": {},
   "source": [
    "### Zadanie 7\n",
    "![](./data/zadania/zadanie-033.png)"
   ]
  },
  {
   "cell_type": "markdown",
   "metadata": {},
   "source": [
    "\n",
    "### Zadanie 8\n",
    "![](./data/zadania/zadanie-034.png)"
   ]
  },
  {
   "cell_type": "markdown",
   "metadata": {},
   "source": [
    "\n",
    "### Zadanie 9\n",
    "![](./data/zadania/zadanie-035.png)\n",
    "![](./data/zadania/zadanie-036.png)"
   ]
  },
  {
   "cell_type": "markdown",
   "metadata": {},
   "source": [
    "\n",
    "### Zadanie 10\n",
    "![](./data/zadania/zadanie-037.png)"
   ]
  },
  {
   "cell_type": "markdown",
   "metadata": {},
   "source": [
    "### Zadanie 11\n",
    "![](./data/zadania/zadanie-038.png)"
   ]
  },
  {
   "cell_type": "markdown",
   "metadata": {},
   "source": [
    "### Zadanie 12\n",
    "![](./data/zadania/zadanie-039.png)"
   ]
  },
  {
   "cell_type": "markdown",
   "metadata": {},
   "source": [
    "### Zadanie 13\n",
    "![](./data/zadania/zadanie-040.png)"
   ]
  },
  {
   "cell_type": "markdown",
   "metadata": {},
   "source": [
    "### Zadanie 14\n",
    "![](./data/zadania/zadanie-041.png)"
   ]
  },
  {
   "cell_type": "markdown",
   "metadata": {},
   "source": [
    "\n",
    "### Zadanie 15\n",
    "![](./data/zadania/zadanie-042.png)\n",
    "![](./data/zadania/zadanie-043.png)"
   ]
  },
  {
   "cell_type": "markdown",
   "metadata": {},
   "source": [
    "### Zadanie 16\n",
    "![](./data/zadania/zadanie-044.png)"
   ]
  },
  {
   "cell_type": "markdown",
   "metadata": {},
   "source": [
    "### Zadanie 17\n",
    "![](./data/zadania/zadanie-045.png)"
   ]
  },
  {
   "cell_type": "raw",
   "metadata": {},
   "source": [
    "\n",
    "### Zadanie 22\n",
    "![](./data/zadania/zadanie-046.png)\n",
    "### Zadanie 22\n",
    "![](./data/zadania/zadanie-047.png)\n",
    "### Zadanie 22\n",
    "![](./data/zadania/zadanie-048.png)\n",
    "### Zadanie 22\n",
    "![](./data/zadania/zadanie-049.png)\n",
    "### Zadanie 22\n",
    "![](./data/zadania/zadanie-050.png)\n",
    "### Zadanie 22\n",
    "![](./data/zadania/zadanie-051.png)\n",
    "### Zadanie 22\n",
    "![](./data/zadania/zadanie-052.png)\n",
    "### Zadanie 22\n",
    "![](./data/zadania/zadanie-053.png)\n",
    "### Zadanie 22\n",
    "![](./data/zadania/zadanie-054.png)\n",
    "### Zadanie 22\n",
    "![](./data/zadania/zadanie-055.png)\n",
    "### Zadanie 22\n",
    "![](./data/zadania/zadanie-056.png)\n",
    "### Zadanie 22\n",
    "![](./data/zadania/zadanie-057.png)\n",
    "### Zadanie 22\n",
    "![](./data/zadania/zadanie-058.png)\n",
    "### Zadanie 22\n",
    "![](./data/zadania/zadanie-059.png)\n",
    "### Zadanie 22\n",
    "![](./data/zadania/zadanie-060.png)\n",
    "### Zadanie 22\n",
    "![](./data/zadania/zadanie-061.png)\n",
    "### Zadanie 22\n",
    "![](./data/zadania/zadanie-062.png)\n",
    "### Zadanie 22\n",
    "![](./data/zadania/zadanie-063.png)\n",
    "### Zadanie 22\n",
    "![](./data/zadania/zadanie-064.png)\n",
    "### Zadanie 22\n",
    "![](./data/zadania/zadanie-065.png)\n",
    "### Zadanie 22\n",
    "![](./data/zadania/zadanie-066.png)\n",
    "### Zadanie 22\n",
    "![](./data/zadania/zadanie-067.png)\n",
    "### Zadanie 22\n",
    "![](./data/zadania/zadanie-068.png)\n",
    "### Zadanie 22\n",
    "![](./data/zadania/zadanie-069.png)\n",
    "### Zadanie 22\n",
    "![](./data/zadania/zadanie-070.png)\n",
    "### Zadanie 22\n",
    "![](./data/zadania/zadanie-071.png)\n",
    "### Zadanie 22\n",
    "![](./data/zadania/zadanie-072.png)\n",
    "### Zadanie 22\n",
    "![](./data/zadania/zadanie-073.png)\n",
    "### Zadanie 22\n",
    "![](./data/zadania/zadanie-074.png)\n",
    "### Zadanie 22\n",
    "![](./data/zadania/zadanie-075.png)\n",
    "### Zadanie 22\n",
    "![](./data/zadania/zadanie-076.png)\n",
    "### Zadanie 22\n",
    "![](./data/zadania/zadanie-077.png)\n",
    "### Zadanie 22\n",
    "![](./data/zadania/zadanie-078.png)\n",
    "### Zadanie 22\n",
    "![](./data/zadania/zadanie-079.png)\n",
    "### Zadanie 22\n",
    "![](./data/zadania/zadanie-080.png)\n",
    "### Zadanie 22\n",
    "![](./data/zadania/zadanie-081.png)\n",
    "### Zadanie 22\n",
    "![](./data/zadania/zadanie-082.png)\n",
    "### Zadanie 22\n",
    "![](./data/zadania/zadanie-083.png)\n",
    "### Zadanie 22\n",
    "![](./data/zadania/zadanie-084.png)\n",
    "### Zadanie 22\n",
    "![](./data/zadania/zadanie-085.png)\n",
    "### Zadanie 22\n",
    "![](./data/zadania/zadanie-086.png)\n",
    "### Zadanie 22\n",
    "![](./data/zadania/zadanie-087.png)\n",
    "### Zadanie 22\n",
    "![](./data/zadania/zadanie-088.png)\n",
    "### Zadanie 22\n",
    "![](./data/zadania/zadanie-089.png)\n",
    "### Zadanie 22\n",
    "![](./data/zadania/zadanie-090.png)\n",
    "### Zadanie 22\n",
    "![](./data/zadania/zadanie-091.png)\n",
    "### Zadanie 22\n",
    "![](./data/zadania/zadanie-092.png)\n",
    "### Zadanie 22\n",
    "![](./data/zadania/zadanie-093.png)\n",
    "### Zadanie 22\n",
    "![](./data/zadania/zadanie-094.png)\n",
    "### Zadanie 22\n",
    "![](./data/zadania/zadanie-095.png)\n",
    "### Zadanie 22\n",
    "![](./data/zadania/zadanie-096.png)\n",
    "### Zadanie 22\n",
    "![](./data/zadania/zadanie-097.png)\n",
    "### Zadanie 22\n",
    "![](./data/zadania/zadanie-098.png)\n",
    "### Zadanie 22\n",
    "![](./data/zadania/zadanie-099.png)\n",
    "### Zadanie 22\n",
    "![](./data/zadania/zadanie-100.png)\n",
    "### Zadanie 22\n",
    "![](./data/zadania/zadanie-101.png)\n",
    "### Zadanie 22\n",
    "![](./data/zadania/zadanie-102.png)\n",
    "### Zadanie 22\n",
    "![](./data/zadania/zadanie-103.png)\n",
    "### Zadanie 22\n",
    "![](./data/zadania/zadanie-104.png)\n",
    "### Zadanie 22\n",
    "![](./data/zadania/zadanie-105.png)\n",
    "### Zadanie 22\n",
    "![](./data/zadania/zadanie-106.png)\n",
    "### Zadanie 22\n",
    "![](./data/zadania/zadanie-107.png)\n",
    "### Zadanie 22\n",
    "![](./data/zadania/zadanie-108.png)\n",
    "'''"
   ]
  }
 ],
 "metadata": {
  "kernelspec": {
   "display_name": "Python 3",
   "language": "python",
   "name": "python3"
  },
  "language_info": {
   "codemirror_mode": {
    "name": "ipython",
    "version": 3
   },
   "file_extension": ".py",
   "mimetype": "text/x-python",
   "name": "python",
   "nbconvert_exporter": "python",
   "pygments_lexer": "ipython3",
   "version": "3.7.4"
  }
 },
 "nbformat": 4,
 "nbformat_minor": 2
}
