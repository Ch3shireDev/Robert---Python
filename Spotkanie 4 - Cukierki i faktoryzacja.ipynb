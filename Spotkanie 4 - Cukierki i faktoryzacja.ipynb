{
 "cells": [
  {
   "cell_type": "markdown",
   "metadata": {},
   "source": [
    "# Zadania z OIG\n",
    "\n",
    "Poniżej przedstawię kilka zadań przygotowawczych do Olimpiady Informatycznej Gimnazjalistów.\n",
    "\n",
    "### Cukierki\n",
    "\n",
    "Jaś ma cukierki N różnych rodzajów. Są one przeznaczone na jego przyjęcie urodzinowe. Chciałby zaprosić jak najwięcej kolegów, jednak nie chce, aby ktokolwiek poczuł się pokrzywdzony. Dlatego cukierki każdego rodzaju muszą zostać podzielone po równo między wszystkich gości. Oprócz tego Jaś może zjeść z każdego rodzaju co najwyżej jednego cukierka, jeśli umożliwi mu to zaproszenie większej liczby kolegów. Powiedzcie mu, ile maksymalnie może zaprosić kolegów?\n",
    "\n",
    "##### Wejście\n",
    "W pierwszym wierszu standardowego wejścia zapisano jedną liczbę całkowitą $N$ $(1 \\leq N \\leq 100)$ – liczbę rodzajów cukierków. W $i-$tym z kolejnych $N$ wierszy zapisano liczbę całkowitą $L_i$ $(2 \\leq L_i \\leq 10^4)$ – liczbę cukierków $i-$tego rodzaju.\n",
    "##### Wyjście\n",
    "W pierwszym wierszu standardowego wyjścia należy wypisać maksymalną liczbę kolegów, jaką Jasiu może zaprosić na przyjęcie.\n",
    "\n",
    "![](OIG/przyklady.png)"
   ]
  },
  {
   "cell_type": "markdown",
   "metadata": {},
   "source": [
    "### Propozycja rozwiązania\n",
    "\n",
    "Jeśli chcemy podzielić zbiór $x$ elementów na $y$ równych części, musimy sprawdzić, czy $y$ jest dzielnikiem $x$. Jednak - znajdywanie wszystkich dzielników jest bardzo intensywnym zadaniem. Znacznie lepiej jest znaleźć rozkład na liczby pierwsze, po czym porównywać wśród wszystkich $N$ zbiorów które elementy się powtarzają.\n",
    "\n",
    "Przykład: mamy zbiory 12 oraz 42 elementowe. Przeprowadzamy faktoryzację każdego z nich: $12 = 2\\cdot2\\cdot3$, natomiast $42=2\\cdot3\\cdot7$. Powtarzające się dzielniki to $2$ oraz $3$ - stąd wiemy, że największy wspólny dzielnik obydwu liczb będzie równy $2\\cdot3=6$.\n",
    "\n",
    "Jak stworzyć funkcję faktoryzującą? Jednym ze sposobów może być próba dzielenia liczby przez kolejne liczby pierwsze, uzyskane np. z sita Eratostenesa."
   ]
  },
  {
   "cell_type": "code",
   "execution_count": 6,
   "metadata": {
    "collapsed": false
   },
   "outputs": [
    {
     "name": "stdout",
     "output_type": "stream",
     "text": [
      "Zaczynamy faktoryzacje...\n",
      "[2, 2, 3, 7]\n"
     ]
    }
   ],
   "source": [
    "primes = [] #pusta tablica liczb pierwszych\n",
    "N = 10000 #do jakiej liczby mamy szukać\n",
    "\n",
    "tab = [True for i in range(N)] #tworzymy sito\n",
    "\n",
    "for i in range(2,N-1): #od elementu pod indeksem 2 zaczynamy skreslanie\n",
    "\tif tab[i]: #jesli tab[i] ma wartosc True, to dopisujemy i do listy liczb pierwszych\n",
    "\t\tprimes.append(i)\n",
    "\t\tfor j in range(2,N//i): #dla wszystkich wielokrotnosci i skreslamy kolejne pola tablicy\n",
    "\t\t\ttab[i*j] = False\n",
    "\n",
    "def faktoryzuj(n): #wlasciwa funkcja faktoryzujaca\n",
    "\tfactors = []\n",
    "\twhile n>1: #tak dlugo jak zmienna n jest wieksza od 1 przeprowadzamy faktoryzacje\n",
    "\t\tfor p in primes:\n",
    "\t\t\tif p>n: #jesli liczba pierwsza p jest wieksza od n to nie warto szukac dalej\n",
    "\t\t\t\tbreak\n",
    "\t\t\tif n%p == 0: #jesli n dzieli sie przez p, to dzielimy n przez p oraz dopisujemy p do listy\n",
    "\t\t\t\tfactors.append(p)\n",
    "\t\t\t\tn = n//p #korzystam ze znaku // aby miec dzielenie liczb calkowitych\n",
    "\t\t\t\tbreak\n",
    "\treturn factors #zwracam tablce dzielnikow\n",
    "\n",
    "print(\"Zaczynamy faktoryzacje...\")\n",
    "print(faktoryzuj(84))"
   ]
  },
  {
   "cell_type": "markdown",
   "metadata": {},
   "source": [
    "Możemy teraz sprawdzić, jakie liczby powtarzają się we wszystkich listach i uzyskać największy wspólny dzielnik. Jednak, jest jeszcze jeden haczyk - faktycznie legalne jest aby Jaś zjadł jednego cukierka z każdego ze zbiorów, jeśli to poskutkuje możliwym zwiększeniem liczby kolegów. Istotnie, jeśli mielibyśmy np. zbiory 13 cukierków i 12 cukierków, to Jaś mógłby zaprosić najwyżej jednego kolegę. Jednak, gdyby zjadł z pierwszego zbioru jednego cukierka, spokojnie mógłby zaprosić 12 osób. W przypadku maks 100 zbiorów zadanie jest znacznie bardziej skomplikowane.\n",
    "\n",
    "### Propozycja rozwiazania\n",
    "\n",
    "Najpierw obliczmy jaka jest maksymalna liczba gości którą możemy zaprosić bez zjadania cukierków. Następnie sprawdźmy, czy jesteśmy w stanie zaprosić dodatkowych gości - na pewno nie więcej niż krotność najmniejszego ze zbiorów - przez zjadanie cukierków w którymś ze zbiorów.\n",
    "\n",
    "Tutaj zastosujemy odwrotne podejście - liczba gości jest na ogół liczbą złożoną, zatem ją także sfaktoryzujemy. Następnie sprawdzimy, czy jej dzielniki występują w odpowiedniej liczbie w czynnikach liczb $N$ oraz $N-1$. Jeśli nie, to przerywamy pętlę i sprawdzamy dla nowej liczby gości czy tym razem mamy szczęście."
   ]
  },
  {
   "cell_type": "code",
   "execution_count": null,
   "metadata": {
    "collapsed": true
   },
   "outputs": [],
   "source": []
  }
 ],
 "metadata": {
  "kernelspec": {
   "display_name": "Python 3",
   "language": "python",
   "name": "python3"
  },
  "language_info": {
   "codemirror_mode": {
    "name": "ipython",
    "version": 3
   },
   "file_extension": ".py",
   "mimetype": "text/x-python",
   "name": "python",
   "nbconvert_exporter": "python",
   "pygments_lexer": "ipython3",
   "version": "3.6.0"
  }
 },
 "nbformat": 4,
 "nbformat_minor": 2
}
