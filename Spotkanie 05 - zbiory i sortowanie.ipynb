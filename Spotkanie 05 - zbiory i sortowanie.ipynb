{
 "cells": [
  {
   "cell_type": "markdown",
   "metadata": {},
   "source": [
    "# Spotkanie 5 - preliminaria\n",
    "\n",
    "Zaczniemy od przypomnienia sobie działania matematyki i funkcji w Pythonie. Jaka będzie wartość `x` po przekształceniach?"
   ]
  },
  {
   "cell_type": "code",
   "execution_count": 1,
   "metadata": {
    "collapsed": true
   },
   "outputs": [],
   "source": [
    "x = 5\n",
    "x += 2\n",
    "x *= 3\n",
    "x %= 8"
   ]
  },
  {
   "cell_type": "markdown",
   "metadata": {},
   "source": [
    "A jaka będzie wartość `y`?"
   ]
  },
  {
   "cell_type": "code",
   "execution_count": 2,
   "metadata": {
    "collapsed": true
   },
   "outputs": [],
   "source": [
    "y = 0\n",
    "for i in range(5):\n",
    "    if i % 2 == 0:\n",
    "        y += i"
   ]
  },
  {
   "cell_type": "markdown",
   "metadata": {},
   "source": [
    "Jeśli chcemy wykonać pętlę która doda do siebie kolejne liczby od 1 do N, piszemy:"
   ]
  },
  {
   "cell_type": "code",
   "execution_count": 3,
   "metadata": {
    "collapsed": true
   },
   "outputs": [],
   "source": [
    "N = 10\n",
    "suma = 0\n",
    "for i in range(N):\n",
    "    suma += i"
   ]
  },
  {
   "cell_type": "markdown",
   "metadata": {},
   "source": [
    "Powiedzmy, że chcemy stworzyć tablicę liczb parzystych od 0 do 50. Napiszemy wtedy:"
   ]
  },
  {
   "cell_type": "code",
   "execution_count": 4,
   "metadata": {
    "collapsed": false
   },
   "outputs": [
    {
     "name": "stdout",
     "output_type": "stream",
     "text": [
      "Pretty printing has been turned OFF\n"
     ]
    },
    {
     "data": {
      "text/plain": [
       "[0, 2, 4, 6, 8, 10, 12, 14, 16, 18, 20, 22, 24, 26, 28, 30, 32, 34, 36, 38, 40, 42, 44, 46, 48, 50]"
      ]
     },
     "execution_count": 4,
     "metadata": {},
     "output_type": "execute_result"
    }
   ],
   "source": [
    "%pprint #musiałem dopisać tę linię aby lista była zapisana w jednej linii\n",
    "[2*i for i in range(0, 26)] #od zera do 26, bez 26"
   ]
  },
  {
   "cell_type": "markdown",
   "metadata": {},
   "source": [
    "Teraz zadanie: mamy do napisania funkcję, która zwróci wszystkie liczby podzielne przez 7 ale nie będące wielokrotnością 5, z przedziału 2000 do 3200 (włącznie):"
   ]
  },
  {
   "cell_type": "code",
   "execution_count": 5,
   "metadata": {
    "collapsed": true
   },
   "outputs": [],
   "source": [
    "def funkcja():\n",
    "    tab = []\n",
    "    for i in range(2000,3201):\n",
    "        if i%7 == 0 and i%5 != 0:\n",
    "            tab.append(i)\n",
    "    return tab"
   ]
  },
  {
   "cell_type": "markdown",
   "metadata": {},
   "source": [
    "Pamiętamy definicję silni, prawda? Bezpośrednio ma postać:\n",
    "\n",
    "$$n! = 1\\cdot2\\cdot...\\cdot(n-1)\\cdot n,$$\n",
    "\n",
    "natomiast postać rekurencyjna:\n",
    "\n",
    "$$0! = 1$$\n",
    "$$1! = 1$$\n",
    "$$n! = n\\cdot (n-1)!$$\n",
    "\n",
    "Napiszemy teraz funkcje zwracające wartości silni z liczb naturalnych w sposób bezpośredni i rekurencyjny:"
   ]
  },
  {
   "cell_type": "code",
   "execution_count": 6,
   "metadata": {
    "collapsed": true
   },
   "outputs": [],
   "source": [
    "def silnia_bezp(n):\n",
    "    silnia = 1\n",
    "    for i in range(1,n+1):\n",
    "        silnia *= i\n",
    "    return silnia\n",
    "\n",
    "def silnia_rek(n):\n",
    "    if n==0:return 1\n",
    "    else:\n",
    "        return n*silnia_rek(n-1)"
   ]
  },
  {
   "cell_type": "markdown",
   "metadata": {},
   "source": [
    "## Żółw\n",
    "\n",
    "Dla przypomnienia, żółwiowe metody:\n",
    "\n",
    "### Poruszanie\n",
    "\n",
    "    Podstawy\n",
    "        forward() | fd()\n",
    "        backward() | bk() | back()\n",
    "        right() | rt()\n",
    "        left() | lt()\n",
    "    \n",
    "    Dodatkowe komendy\n",
    "        home()\n",
    "        circle()\n",
    "        dot()\n",
    "        stamp()\n",
    "        undo()\n",
    "        speed()\n",
    "\n",
    "### Kontrola pisaka\n",
    "\n",
    "    Stan pisaka\n",
    "        pendown() | pd() | down()\n",
    "        penup() | pu() | up()\n",
    "        pensize() | width()\n",
    "        pen()\n",
    "        isdown()\n",
    "    \n",
    "    Kolor\n",
    "        color()\n",
    "        pencolor()\n",
    "        fillcolor()\n",
    "    \n",
    "    Wypełnienie\n",
    "        fill()\n",
    "        begin_fill()\n",
    "        end_fill()\n",
    "\n",
    "### Kontrola stanu\n",
    "        showturtle() | st()\n",
    "        hideturtle() | ht()\n",
    "        isvisible()\n",
    "        done()"
   ]
  },
  {
   "cell_type": "markdown",
   "metadata": {},
   "source": [
    "# Spotkanie 5 - zbiory i sortowanie\n",
    "\n",
    "Na naszym spotkaniu po wakacjach omówimy kilka użytecznych algorytmów zaimplementowanych na stałe w Pythonie. Zaczniemy od prostego problemu - mamy n-elementową tablicę liczb i musimy policzyć, ile jest w niej **różnych** elementów. Na przykład, w tablicy:"
   ]
  },
  {
   "cell_type": "code",
   "execution_count": 7,
   "metadata": {
    "collapsed": false
   },
   "outputs": [
    {
     "data": {
      "text/plain": [
       "[1, 2, 1, 3, 2, 2]"
      ]
     },
     "execution_count": 7,
     "metadata": {},
     "output_type": "execute_result"
    }
   ],
   "source": [
    "[1,2,1,3,2,2]"
   ]
  },
  {
   "cell_type": "markdown",
   "metadata": {},
   "source": [
    "mamy trzy różne liczby. Wymyślimy teraz na parę różnych sposobów jak policzyć elementy."
   ]
  },
  {
   "cell_type": "markdown",
   "metadata": {},
   "source": [
    "## Podejście pierwsze\n",
    "\n",
    "W tym przykładzie będę korzystał z losowo wygenerowanej tablicy. Losujemy liczby od 1 do 50 sto razy - mamy zatem pewność, że liczby będą się powtarzać. Funkcja `randint(a,b)` z biblioteki random losuje liczbę z zakresu od a do b (łącznie z a, b), tablica ponawia działanie 100 razy.\n",
    "\n",
    "Pewnym pomysłem może być podejście typu ***brute-force*** - bez nadmiernego myślenia liczymy 'na palcach' ile pojawiło się różnych liczb. Przy każdym elemencie tablicy sprawdzamy, czy liczba już się pojawiła przy użyciu osobnej tablicy - jeśli nie, dopisujemy ją do owej tablicy. Na końcu zwracamy długość tablicy liczb."
   ]
  },
  {
   "cell_type": "code",
   "execution_count": 8,
   "metadata": {
    "collapsed": false
   },
   "outputs": [
    {
     "data": {
      "text/plain": [
       "45"
      ]
     },
     "execution_count": 8,
     "metadata": {},
     "output_type": "execute_result"
    }
   ],
   "source": [
    "from random import randint\n",
    "tab = [randint(1,50) for i in range(100)]\n",
    "\n",
    "numbers = []\n",
    "\n",
    "for x in tab: #dla kazdego elementu x z tablicy tab\n",
    "    nowaLiczba = True\n",
    "    for y in numbers: #porownujemy x z kazdym elementem z numbers\n",
    "        if x is y: #jesli x jest rowny y, przerywamy sprawdzanie\n",
    "            nowaLiczba = False #flaga jest opuszczona, nie mamy nowej liczby\n",
    "            break\n",
    "    if nowaLiczba is True: #jesli mamy nowa liczbe dopisujemy ja\n",
    "        numbers.append(x)\n",
    "            \n",
    "len(numbers)"
   ]
  },
  {
   "cell_type": "markdown",
   "metadata": {},
   "source": [
    "## Podejscie drugie\n",
    "\n",
    "Możemy również zastosować składnię `if x in X` do sprawdzenia obecności liczby na liście:"
   ]
  },
  {
   "cell_type": "code",
   "execution_count": 9,
   "metadata": {
    "collapsed": false
   },
   "outputs": [
    {
     "name": "stdout",
     "output_type": "stream",
     "text": [
      "1 jest w liście [1, 2, 3]\n"
     ]
    }
   ],
   "source": [
    "X = [1,2,3]\n",
    "if 1 in X:\n",
    "    print(\"1 jest w liście\", X)\n",
    "if 4 in X:\n",
    "    print(\"4 jest w liście\", X)"
   ]
  },
  {
   "cell_type": "markdown",
   "metadata": {},
   "source": [
    "Wtedy powyższy kod przyjmuje postać:"
   ]
  },
  {
   "cell_type": "code",
   "execution_count": 10,
   "metadata": {
    "collapsed": false
   },
   "outputs": [
    {
     "data": {
      "text/plain": [
       "45"
      ]
     },
     "execution_count": 10,
     "metadata": {},
     "output_type": "execute_result"
    }
   ],
   "source": [
    "numbers = []\n",
    "\n",
    "for x in tab: #dla kazdego elementu x z tablicy tab\n",
    "    nowaLiczba = True\n",
    "    if x in numbers: #jesli x jest w numbers\n",
    "        nowaLiczba = False #nie mamy nowej liczby\n",
    "    if nowaLiczba is True: #jesli mamy nowa liczbe dopisujemy ja\n",
    "        numbers.append(x)\n",
    "            \n",
    "len(numbers)"
   ]
  },
  {
   "cell_type": "markdown",
   "metadata": {},
   "source": [
    "Możemy nawet zaszaleć i skrócić kod jeszcze bardziej:"
   ]
  },
  {
   "cell_type": "code",
   "execution_count": 11,
   "metadata": {
    "collapsed": false
   },
   "outputs": [
    {
     "data": {
      "text/plain": [
       "45"
      ]
     },
     "execution_count": 11,
     "metadata": {},
     "output_type": "execute_result"
    }
   ],
   "source": [
    "def rozneLiczby(tab):\n",
    "    numbers = []\n",
    "    for x in tab: #dla kazdego elementu x z tablicy tab\n",
    "        if x not in numbers: #jesli x nie jest w numbers\n",
    "            numbers.append(x) #dopisujemy nowa liczbe\n",
    "    return len(numbers)\n",
    "\n",
    "rozneLiczby(tab)"
   ]
  },
  {
   "cell_type": "markdown",
   "metadata": {},
   "source": [
    "Jednakowoż, pojawia się teraz następujący problem: składnia `x in X` lub `x not in X` w istocie nie skraca wykonywania skryptu."
   ]
  },
  {
   "cell_type": "code",
   "execution_count": 12,
   "metadata": {
    "collapsed": false
   },
   "outputs": [
    {
     "name": "stdout",
     "output_type": "stream",
     "text": [
      "10000 loops, best of 3: 44.8 µs per loop\n"
     ]
    }
   ],
   "source": [
    "from timeit import timeit\n",
    "%timeit rozneLiczby(tab)"
   ]
  },
  {
   "cell_type": "code",
   "execution_count": 13,
   "metadata": {
    "collapsed": false
   },
   "outputs": [
    {
     "name": "stdout",
     "output_type": "stream",
     "text": [
      "100 loops, best of 3: 5.24 ms per loop\n"
     ]
    }
   ],
   "source": [
    "tab2 = [randint(0,1000) for i in range(1000)]\n",
    "%timeit rozneLiczby(tab2)"
   ]
  },
  {
   "cell_type": "code",
   "execution_count": 14,
   "metadata": {
    "collapsed": false
   },
   "outputs": [
    {
     "name": "stdout",
     "output_type": "stream",
     "text": [
      "1 loop, best of 3: 1.96 s per loop\n"
     ]
    }
   ],
   "source": [
    "tab2 = [randint(0,20000) for i in range(20000)]\n",
    "%timeit rozneLiczby(tab2)"
   ]
  },
  {
   "cell_type": "markdown",
   "metadata": {},
   "source": [
    "Przy relatywnie niskiej liczbie 20000 elementów mamy już strasznie długi czas wykonywania skryptu 2 sekund. Być może zatem jest jakaś inna metoda która pozwalałaby na skrócenie czasu wykonywania?"
   ]
  },
  {
   "cell_type": "markdown",
   "metadata": {},
   "source": [
    "## Podejście trzecie - sortowanie\n",
    "\n",
    "Owszem, jest - bardzo prosty. Załóżmy teraz, że nasza tablica losowych elementów jest posortowana - tj. dalej mamy te same elementy, ale są one w ściśle ustalonej kolejności, od najmniejszego do największego. Aby dać lepszy obraz sytuacji, tablica:"
   ]
  },
  {
   "cell_type": "code",
   "execution_count": 15,
   "metadata": {
    "collapsed": false
   },
   "outputs": [
    {
     "data": {
      "text/plain": [
       "[4, 2, 4, 3, 2, 2, 1, 5, 4, 3]"
      ]
     },
     "execution_count": 15,
     "metadata": {},
     "output_type": "execute_result"
    }
   ],
   "source": [
    "x = [randint(1, 5) for i in range(10)]\n",
    "x"
   ]
  },
  {
   "cell_type": "markdown",
   "metadata": {},
   "source": [
    "po posortowaniu przyjmuje postać:"
   ]
  },
  {
   "cell_type": "code",
   "execution_count": 16,
   "metadata": {
    "collapsed": false
   },
   "outputs": [
    {
     "data": {
      "text/plain": [
       "[1, 2, 2, 2, 3, 3, 4, 4, 4, 5]"
      ]
     },
     "execution_count": 16,
     "metadata": {},
     "output_type": "execute_result"
    }
   ],
   "source": [
    "sorted(x)"
   ]
  },
  {
   "cell_type": "markdown",
   "metadata": {},
   "source": [
    "(moglibyśmy również użyć metody `x.sort()` aby trwale posortować tablicę `x`). W tym momencie pozbywamy się problemu, w którym jakiś element powtarza się po długim czasie nieobecności - jeśli mamy jakiś potwarzającą się liczbę, będzie ona zgrupowana razem z innymi elementami o tej samej wartości. Nasza funkcja zliczająca różne elementy może zatem przyjąć postać:"
   ]
  },
  {
   "cell_type": "code",
   "execution_count": 17,
   "metadata": {
    "collapsed": false
   },
   "outputs": [
    {
     "data": {
      "text/plain": [
       "45"
      ]
     },
     "execution_count": 17,
     "metadata": {},
     "output_type": "execute_result"
    }
   ],
   "source": [
    "def rozneLiczbyV2(tab):\n",
    "    Tab2 = sorted(tab) #Tab2 to posortowana wersja tab\n",
    "    y = Tab2[0] #zmienna pomocnicza zaczyna jako pierwszy element\n",
    "    n = 1 #zliczamy rozne liczby - na pewno mamy jedną\n",
    "    for x in Tab2:\n",
    "        if x is not y:\n",
    "            n += 1 #za każdym razem gdy x nie jest równe y, \n",
    "                    #licznik się zwiększa\n",
    "            y = x #zmienna do porównania przyjmuje nową wartość\n",
    "    return n\n",
    "\n",
    "rozneLiczby(tab)\n",
    "rozneLiczbyV2(tab)"
   ]
  },
  {
   "cell_type": "markdown",
   "metadata": {},
   "source": [
    "Sprawdźmy teraz, jak nowa funkcja poradzi sobie z dużą tablicą 20000 elementów:"
   ]
  },
  {
   "cell_type": "code",
   "execution_count": 18,
   "metadata": {
    "collapsed": false
   },
   "outputs": [
    {
     "name": "stdout",
     "output_type": "stream",
     "text": [
      "10 loops, best of 3: 38.7 ms per loop\n"
     ]
    }
   ],
   "source": [
    "%timeit(rozneLiczbyV2([randint(1,20000) for i in range(20000)]))"
   ]
  },
  {
   "cell_type": "code",
   "execution_count": 19,
   "metadata": {
    "collapsed": false
   },
   "outputs": [
    {
     "name": "stdout",
     "output_type": "stream",
     "text": [
      "1 loop, best of 3: 2.06 s per loop\n"
     ]
    }
   ],
   "source": [
    "%timeit(rozneLiczby([randint(1,20000) for i in range(20000)]))"
   ]
  },
  {
   "cell_type": "markdown",
   "metadata": {},
   "source": [
    "## Podejście czwarte - set container\n",
    "\n",
    "Do tej pory korzystaliśmy z listy jako bardzo naturalnego obiektu. W ogólności, lista jest jednym z dostępnych pojemników (nazywanych *kolekcjami*). Jeśli weźmiemy jakąś gromadę elementów, np. parę lub trójkę, i wrzucimy ją do listy, otrzymamy:"
   ]
  },
  {
   "cell_type": "code",
   "execution_count": 20,
   "metadata": {
    "collapsed": false
   },
   "outputs": [
    {
     "data": {
      "text/plain": [
       "[1, 2, 3]"
      ]
     },
     "execution_count": 20,
     "metadata": {},
     "output_type": "execute_result"
    }
   ],
   "source": [
    "list((1,2,3))"
   ]
  },
  {
   "cell_type": "markdown",
   "metadata": {},
   "source": [
    "W podobny sposób możemy używać innej kolekcji, *zbioru* `set`. W matematyce zbiór jest pojęciem pierwotnym, bez żadnych definicji - określa się natomiast zakres używalności zbioru. Wiemy, że elementy mogą należeć lub nie należeć do zbioru:\n",
    "\n",
    "$$x \\in X$$\n",
    "$$y \\not\\in X$$\n",
    "\n",
    "możemy również określać liczbę elementów w zbiorze, porównywać zbiory itd. Co istotne, jeśli mamy np. zbiór trzyelementowy, do którego należą liczby 1,2,3:\n",
    "\n",
    "$$X = \\{ 1,2,3\\}$$ \n",
    "\n",
    "to nawet gdy napiszemy dwa razy $1\\in X$, jedynka jest zawarta w zbiorze *tylko raz*."
   ]
  },
  {
   "cell_type": "code",
   "execution_count": 21,
   "metadata": {
    "collapsed": false
   },
   "outputs": [
    {
     "name": "stdout",
     "output_type": "stream",
     "text": [
      "{1, 2}\n"
     ]
    }
   ],
   "source": [
    "X = set()\n",
    "X.add(1)\n",
    "X.add(2)\n",
    "X.add(1)\n",
    "print(X)"
   ]
  },
  {
   "cell_type": "markdown",
   "metadata": {},
   "source": [
    "Do zbioru możemy dodawać również całe listy elementów:"
   ]
  },
  {
   "cell_type": "code",
   "execution_count": 22,
   "metadata": {
    "collapsed": false
   },
   "outputs": [
    {
     "data": {
      "text/plain": [
       "{1, 2, 3}"
      ]
     },
     "execution_count": 22,
     "metadata": {},
     "output_type": "execute_result"
    }
   ],
   "source": [
    "set([1,1,1,2,2,3])"
   ]
  },
  {
   "cell_type": "code",
   "execution_count": 23,
   "metadata": {
    "collapsed": false
   },
   "outputs": [
    {
     "data": {
      "text/plain": [
       "{'czekolada', 'karmel', 'ciastko'}"
      ]
     },
     "execution_count": 23,
     "metadata": {},
     "output_type": "execute_result"
    }
   ],
   "source": [
    "set([\"ciastko\", \"karmel\", \"czekolada\", \"ciastko\"])"
   ]
  },
  {
   "cell_type": "markdown",
   "metadata": {},
   "source": [
    "Jeśli zastanawiasz się do czego to zmierza, to już mówię - zaczęliśmy to spotkanie od pytania o liczbę różnych elementów w liście. Przez cały czas rozwiązanie było do zapisania w jednej linijce:"
   ]
  },
  {
   "cell_type": "code",
   "execution_count": 24,
   "metadata": {
    "collapsed": false
   },
   "outputs": [
    {
     "data": {
      "text/plain": [
       "45"
      ]
     },
     "execution_count": 24,
     "metadata": {},
     "output_type": "execute_result"
    }
   ],
   "source": [
    "len(set(tab))"
   ]
  }
 ],
 "metadata": {
  "kernelspec": {
   "display_name": "Python 3",
   "language": "python",
   "name": "python3"
  },
  "language_info": {
   "codemirror_mode": {
    "name": "ipython",
    "version": 3
   },
   "file_extension": ".py",
   "mimetype": "text/x-python",
   "name": "python",
   "nbconvert_exporter": "python",
   "pygments_lexer": "ipython3",
   "version": "3.6.0"
  }
 },
 "nbformat": 4,
 "nbformat_minor": 2
}
