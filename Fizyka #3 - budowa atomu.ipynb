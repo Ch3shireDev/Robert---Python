{
 "cells": [
  {
   "cell_type": "markdown",
   "metadata": {},
   "source": [
    "# Modele budowy atomu\n",
    "\n",
    "<a href=\"http://www.youtube.com/watch?feature=player_embedded&v=1StzvGFX4_c\n",
    "\" target=\"_blank\"><img src=\"http://img.youtube.com/vi/1StzvGFX4_c/0.jpg\" \n",
    "alt=\"IMAGE ALT TEXT HERE\" width=\"560\" height=\"315\" border=\"10\" /></a>\n",
    "\n",
    "\n",
    "<a href=\"http://www.youtube.com/watch?feature=player_embedded&v=thnDxFdkzZs\n",
    "\" target=\"_blank\"><img src=\"http://img.youtube.com/vi/thnDxFdkzZs/0.jpg\" \n",
    "alt=\"IMAGE ALT TEXT HERE\" width=\"560\" height=\"315\" border=\"10\" /></a>\n",
    "\n",
    "https://www.youtube.com/watch?v=GhAn8xZQ-d8\n",
    "https://www.youtube.com/watch?v=xazQRcSCRaY\n",
    "https://www.youtube.com/watch?v=Aoi4j8es4gQ\n",
    "https://www.youtube.com/watch?v=YaEO9q2GDZA\n",
    "\n",
    "## Model Thompsona\n",
    "\n",
    "(Model 'ciastka z rodzynkami', lub 'puddingu ze śliwkami')\n",
    "\n",
    "![](https://upload.wikimedia.org/wikipedia/commons/thumb/f/ff/Plum_pudding_atom.svg/220px-Plum_pudding_atom.svg.png)\n",
    "\n",
    "Tłumaczone dane eksperymentalne:\n",
    "- atomy ulegają jonizacji - mogą odrywać lub przyjmować elektrony, uzyskując niezerowy ładunek.\n"
   ]
  },
  {
   "cell_type": "markdown",
   "metadata": {},
   "source": [
    "## Model Rutheforda (1911)\n",
    "\n",
    "(ciężkie jądro wewnątrz atomu, elektrony krążą po orbitach tak jak planety latają wokół Słońca)\n",
    "\n",
    "![](https://upload.wikimedia.org/wikipedia/commons/thumb/6/64/Rutherfordsches_Atommodell.svg/220px-Rutherfordsches_Atommodell.svg.png)\n",
    "\n",
    "Tłumaczone dane eksperymentalne:\n",
    "- Rozpraszanie promieniowanie alfa. Złota folia bombardowana atomami alfa odbijała w przeciwnym kierunku 1/1000 jąder helu."
   ]
  },
  {
   "cell_type": "markdown",
   "metadata": {},
   "source": [
    "## Model atomu Bohra (1913)\n",
    "\n",
    "(cieżkie jądro wewnątrz atomu, ALE elektrony krążą tylko na ustalonych orbitach).\n",
    "\n",
    "![](https://upload.wikimedia.org/wikipedia/commons/thumb/a/ab/Bohr_atom_model_Polish.svg/300px-Bohr_atom_model_Polish.svg.png)"
   ]
  },
  {
   "cell_type": "markdown",
   "metadata": {},
   "source": [
    "## Model kwantowy (1926) - Równanie falowe Schrödingera\n",
    "\n",
    "(jądro atomu jest dalej punktowym ładunkiem dodatnim, ale położenia elektronu uzyskuje się przez rozwiązania równania kwantowego, nie przez równania z fizyki klasycznej)\n",
    "\n",
    "$$\\hat H \\psi = E\\psi$$\n",
    "\n",
    "![](https://encrypted-tbn0.gstatic.com/images?q=tbn:ANd9GcRKw2aNh9zUhi-vonptXWQPt_cHSFnEmUChzigKMt0Wgy0cqLYu)\n",
    "\n",
    "### Po co cały ten szum?\n",
    "\n",
    "Mogłoby się wydawać, że model atomu Bohra był już całkiem wystarczający. Ale - dodawał zasady ad hoc, nie tłumaczył powodów kwantyzacji energii, nie przewidywał spinu elektronu, działał w zasadzie tylko dla atomów jednoelektronowych, słowem - miał bardzo ograniczone użycie i przewidywał podejścia 'na wiarę'. Równanie Schrödingera, chociaż dość skomplikowane w porównaniu do prostszych równań fizyki klasycznej, zawierało skompaktowane te wszystkie zasady - traktował elektron jako falę materii (falę prawodpodobieństwa), której dozwolone poziomy energetyczne były związane z falą stojącą. Łatwo jest ustalić falę stojącą na sznurku, ale w trzech wymiarach (wokół jądra atomowego) jest to ciut bardziej skomplikowane."
   ]
  },
  {
   "cell_type": "markdown",
   "metadata": {},
   "source": [
    "# Kwantowy model relatywistyczny - Równanie Diraca (1928)"
   ]
  },
  {
   "cell_type": "markdown",
   "metadata": {},
   "source": [
    "# Kwantowa teoria pola"
   ]
  }
 ],
 "metadata": {
  "kernelspec": {
   "display_name": "Python 3",
   "language": "python",
   "name": "python3"
  },
  "language_info": {
   "codemirror_mode": {
    "name": "ipython",
    "version": 3
   },
   "file_extension": ".py",
   "mimetype": "text/x-python",
   "name": "python",
   "nbconvert_exporter": "python",
   "pygments_lexer": "ipython3",
   "version": "3.7.4"
  }
 },
 "nbformat": 4,
 "nbformat_minor": 2
}
