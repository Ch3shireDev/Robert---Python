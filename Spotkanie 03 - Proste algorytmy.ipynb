{
 "cells": [
  {
   "cell_type": "markdown",
   "metadata": {},
   "source": [
    "# Spotkanie 3 - Proste algorytmy\n"
   ]
  },
  {
   "cell_type": "markdown",
   "metadata": {},
   "source": [
    "Dla wprawy rozwiążmy jedno z zadań algorytmicznych z Logii 2016, etap pierwszy:\n",
    "\n",
    "## Logia 2016, Etap I, Zadanie 5\n",
    "\n",
    "Napisz jednoparametrową funkcję **irs**, której wynikiem jest n-ta w porządku rosnącym dodatnia liczba całkowita mająca tę cechę, że iloczyn cyfr tej liczby jest równy sumie cyfr tej liczby. Parametr **n** może przyjmować wartości od 1 do 98.\n",
    "\n",
    "Propozycja podejścia - po pierwsze tworzymy funkcje liczące iloczyny i sumy cyfr w liczbie. Następnie przebiegamy po wszystkich możliwych liczbach, sprawdzając, które z nich mają własność sumy cyfr równej iloczynowi cyfr. Nasza funkcja wyjściowa, **irs**, zatrzymuje przebieg wtedy, kiedy licznik osiągnie wartość argumentu."
   ]
  },
  {
   "cell_type": "code",
   "execution_count": 19,
   "metadata": {
    "collapsed": false
   },
   "outputs": [
    {
     "name": "stdout",
     "output_type": "stream",
     "text": [
      "1 1\n",
      "2 2\n",
      "3 3\n",
      "4 4\n",
      "5 5\n",
      "6 6\n",
      "7 7\n",
      "8 8\n",
      "9 9\n",
      "10 22\n",
      "11 123\n"
     ]
    },
    {
     "data": {
      "text/plain": [
       "123"
      ]
     },
     "execution_count": 19,
     "metadata": {},
     "output_type": "execute_result"
    }
   ],
   "source": [
    "def suma(n):\n",
    "    s = str(n)\n",
    "    sum = 0\n",
    "    for a in s:\n",
    "        sum += int(a)\n",
    "    return sum\n",
    "    \n",
    "def iloczyn(n):\n",
    "    s = str(n)\n",
    "    mult = 1\n",
    "    for a in s:\n",
    "        mult *= int(a)\n",
    "    return mult\n",
    "\n",
    "def irs(n):\n",
    "    counter = 1\n",
    "    i = 0\n",
    "    while counter <= n:\n",
    "        i+=1\n",
    "        if suma(i) == iloczyn(i):\n",
    "            print(counter,i)\n",
    "            counter += 1\n",
    "    return i\n",
    "\n",
    "irs(11)"
   ]
  },
  {
   "cell_type": "markdown",
   "metadata": {},
   "source": [
    "W porządku, to był bardzo prosty przykład. Teraz zajmiemy się trudniejszym przypadkiem, coś, co tydzień temu nam zabrało strasznie dużo czasu. Słowa Bartka:\n",
    "\n",
    "## Logia 2016, II Etap, Zadanie 2\n",
    "\n",
    "Słowa Bartka to takie słowa, w których litery *a* i *b* występują w parach: każdemu wystąpieniu litery *a* musi odpowiadać inne wystąpienie litery *b* w dalszej części słowa i odwrotnie - każde wystąpienie litery *b* musi być poprzedzone innym wystąpieniem litery *a*.\n",
    "\n",
    "Napisz jednoparametrową funkcję **spr** której parametrem jest słowo. Wynikiem jest długość najdłuższego prefiksu będącego *słowem Bartka*. Prefiks to początkowy fragment słowa lub całe słowo.\n",
    "\n",
    "dla balon jest 0\n",
    "dla abrakadabra jest 3\n",
    "dla arbuz jest 5\n",
    "\n",
    "Propozycja podejścia. Najpierw napiszmy funkcję sprawdzającą, czy dane słowo jest słowem Bartka. Sprawdzamy czy slowo jest slowem Bartka, a jeśli nie, to przeprowadzamy skrócenie go o ostatnią literkę, tak długo, aż w końcu uzyskamy słowo Bartka, albo dojdziemy do zera.\n",
    "\n",
    "No dobrze, ale jak napisać tę funkcję sprawdzającą? Moją propozycją jest zlokalizowanie pozycji wszystkich liter a oraz b w dwóch tablicach. Dla każdej pozycji *a* powinna istnieć odpowiadająca wyższa pozycja *b*. Jeśli tak nie będzie, zwracamy fałsz."
   ]
  },
  {
   "cell_type": "code",
   "execution_count": 4,
   "metadata": {
    "collapsed": false
   },
   "outputs": [
    {
     "name": "stdout",
     "output_type": "stream",
     "text": [
      "True\n",
      "False\n",
      "True\n",
      "0\n",
      "3\n",
      "5\n"
     ]
    }
   ],
   "source": [
    "def znajdz(slowo, a):\n",
    "    tab = []\n",
    "    for i in range(len(slowo)):\n",
    "        if slowo[i] == a:\n",
    "            tab.append(i)\n",
    "    return tab\n",
    "        \n",
    "def bartek(slowo):\n",
    "    a = znajdz(slowo, 'a')\n",
    "    b = znajdz(slowo, 'b')\n",
    "    if len(a)!=len(b):\n",
    "        return False # jesli mamy rozne liczby a i b, to skreslamy\n",
    "    n = len(a)\n",
    "    for i in range(n):\n",
    "        if a[i] > b[i]:\n",
    "            return False #jesli b jest przed a, zwracamy falsz\n",
    "    return True #jesli slowo zdaje testy, zwracamy prawde\n",
    "\n",
    "print(bartek(\"arbuz\"))\n",
    "print(bartek(\"arbuza\"))\n",
    "print(bartek(\"arbuzab\"))\n",
    "\n",
    "def spr(slowo):\n",
    "    #mozemy albo tworzyc podslowo od 0 do n, albo skorzystac z metody wewnatrz Pythona:\n",
    "    n = len(slowo)\n",
    "    for i in range(0,n):\n",
    "        if i==0:\n",
    "            s = slowo\n",
    "        else:\n",
    "            s = slowo[:-i]\n",
    "        if bartek(s) == True:\n",
    "            return n-i\n",
    "    return 0\n",
    "    \n",
    "print(spr(\"balon\"))\n",
    "print(spr(\"abrakadabra\"))\n",
    "print(spr(\"arbuz\"))"
   ]
  }
 ],
 "metadata": {
  "kernelspec": {
   "display_name": "Python 3",
   "language": "python",
   "name": "python3"
  },
  "language_info": {
   "codemirror_mode": {
    "name": "ipython",
    "version": 3
   },
   "file_extension": ".py",
   "mimetype": "text/x-python",
   "name": "python",
   "nbconvert_exporter": "python",
   "pygments_lexer": "ipython3",
   "version": "3.6.0"
  }
 },
 "nbformat": 4,
 "nbformat_minor": 2
}
