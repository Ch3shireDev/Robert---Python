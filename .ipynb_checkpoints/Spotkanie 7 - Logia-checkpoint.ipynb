{
 "cells": [
  {
   "cell_type": "markdown",
   "metadata": {},
   "source": [
    "# Spotkanie 7\n",
    "\n",
    "Zaczniemy od zadania z działkami z drugiego etapu Logii 2016:\n",
    "\n",
    "![](dzialki.png)\n",
    "\n",
    "Zadanie będzie trochę utrudnione, bo o ile każdy normalny język programowania indeksuje od zera, o tyle Logo indeksuje od jedynki - stąd w zadaniu również stosujemy indeks od 1.\n",
    "\n",
    "Proponowana przeze mnie dzisiejsza metoda będzie polegała na rozwiązywaniu prostszych zadań pośrednich tak, aby pod koniec rozwiązać finalne zadanie.\n",
    "\n",
    "### Zadanie 1\n",
    "\n",
    "Stwórz funkcję `GetTab(n, dzialki)` zwracającą tablicę $n^2$ elementów z jedynkami na miejscach oznaczonych przez listę `dzialki` i zerami wszędzie indziej. Ponieważ tablice w Pythonie są indeksowane od zera, każdy element `d` listy `dzialki` jest indeksem `d-1` finalnej tablicy.\n",
    "\n",
    "### Zadanie 2\n",
    "\n",
    "Stwórz funkcję `Neighbors(tab, n, d)` zwracającą liczbę sąsiadów dla elementu na miejscu `d`. \n",
    "\n",
    "### Zadanie 3\n",
    "\n",
    "Stwórz funkcję `MaxNeighbors(tab, n)` zwracającą maksymalną liczbę sąsiadów dla pustych działek.\n",
    "\n",
    "### Zadanie 4\n",
    "\n",
    "Stwórz funkcję `CountFieldsWithNeighbors(tab, n, amax)` przyjmującą tablicę działek razem z szerokością `n`, zwracającą listę działek (przesuniętych o 1) o liczbie sąsiadów równej `amax`.\n",
    "\n",
    "### Zadanie 5\n",
    "\n",
    "Stwórz finalną funkcję `ms(n, dzialki)` zwracającą położenia pustych działek o największej liczbie sąsiadów."
   ]
  },
  {
   "cell_type": "code",
   "execution_count": 24,
   "metadata": {
    "collapsed": false
   },
   "outputs": [
    {
     "name": "stdout",
     "output_type": "stream",
     "text": [
      "[13]\n",
      "[1, 2, 3, 7, 8, 9]\n"
     ]
    }
   ],
   "source": [
    "def GetTab(n, dzialki):\n",
    "    tab = [0 for i in range(n**2)]\n",
    "    for d in dzialki:\n",
    "        tab[d-1] = 1\n",
    "    return tab\n",
    "\n",
    "def Neighbors(tab, n, d):\n",
    "    suma = 0    \n",
    "    x, y = d%n, d//n\n",
    "    if x>0:\n",
    "        suma += tab[y*n+x-1]\n",
    "    if x<n-1:\n",
    "        suma += tab[y*n+x+1]\n",
    "    if y>0:\n",
    "        suma += tab[(y-1)*n+x]\n",
    "    if y<n-1:\n",
    "        suma += tab[(y+1)*n+x]\n",
    "    return suma\n",
    "\n",
    "def MaxNeighbors(tab, n):\n",
    "    amax = 0\n",
    "    for d in range(n**2):\n",
    "        if tab[d]==1:\n",
    "            continue\n",
    "        x = Neighbors(tab, n, d)\n",
    "        if amax<x:\n",
    "            amax = x\n",
    "    return amax\n",
    "\n",
    "def CountFieldsWithNeighbors(tab, n, amax):\n",
    "    dzialki_max = []\n",
    "    for d in range(n**2):\n",
    "        if tab[d] == 0 and num(tab, n, d) == amax:\n",
    "            dzialki_max.append(d+1)\n",
    "    return dzialki_max\n",
    "\n",
    "def ms(n, dzialki):\n",
    "    tab = GetTab(n, dzialki)\n",
    "    max_num = MaxNeighbors(tab, n)\n",
    "    return CountFieldsWithNeighbors(tab, n, max_num)\n",
    "\n",
    "print(ms(4, [9, 10, 14]))\n",
    "print(ms(3, [4, 5, 6]))"
   ]
  },
  {
   "cell_type": "markdown",
   "metadata": {},
   "source": [
    "![](redukcja.png)\n",
    "\n",
    "### Zadanie 1\n",
    "\n",
    "Stwórz funkcję przekształcającą liczbę do listy cyfr w odwrotnej kolejności.\n",
    "\n",
    "### Zadanie 2\n",
    "\n",
    "Stwórz funkcję odwracającą kolejność listy cyfr i przekształcającą ją najpierw do tekstu, a następnie do liczby.\n",
    "\n",
    "### Zadanie 3\n",
    "\n",
    "Stwórz funkcję która przyjmuje cyfrę i zwraca ostatnią cyfrę dwukrotności pierwszej cyfry.\n",
    "\n",
    "### Zadanie 4\n",
    "\n",
    "Stwórz funkcję przyjmującą listę cyfr i zwracającą listę cyfr z pierwszą parą zastąpioną cyfrą zwróconą przez poprzednią funkcję.\n",
    "\n",
    "### Zadanie 5\n",
    "\n",
    "Stwórz finalną funkcję przyjmującą liczbę, przekształcającą ją na odwróconą listę cyfr, wykonującą poprzednią funkcję tak długo aż owa funkcja zwraca tę samą wartość i przekształcającą odwróconą listę cyfr w liczbę którą zwraca na wyjściu."
   ]
  },
  {
   "cell_type": "code",
   "execution_count": 80,
   "metadata": {
    "collapsed": false
   },
   "outputs": [
    {
     "name": "stdout",
     "output_type": "stream",
     "text": [
      "6\n",
      "86\n"
     ]
    }
   ],
   "source": [
    "def transform(x):\n",
    "    n = len(x)\n",
    "    y = []\n",
    "    i = 0\n",
    "    while i<n:\n",
    "        z = x[i]\n",
    "        if i<n-1 and x[i]==x[i+1]:\n",
    "            z = 2*int(z)\n",
    "            z = str(z)[-1]\n",
    "            i+=1\n",
    "        y.append(z)\n",
    "        i+=1\n",
    "    return y\n",
    "\n",
    "\n",
    "def redukcja(liczba):\n",
    "    x = list(str(liczba))\n",
    "    x = x[::-1]\n",
    "    \n",
    "    x0 = None\n",
    "    while x0 != x:\n",
    "        x0 = x\n",
    "        x = transform(x)\n",
    "\n",
    "    x = ''.join(x)\n",
    "    x = x[::-1]\n",
    "    x = int(x)\n",
    "    return x\n",
    "\n",
    "print(redukcja(84211))\n",
    "print(redukcja(426633))"
   ]
  },
  {
   "cell_type": "markdown",
   "metadata": {},
   "source": [
    "![](pole_robota.png)\n",
    "\n",
    "### Zadanie 1\n",
    "\n",
    "Stwórz funkcję `ChangeLocation(x,y,a)` która przyjmuje położenia `x, y` oraz znak `a`, zmienia wartość `x` lub `y` w zależności od wartości znaku `a` i zwraca parę liczb `x, y` na wyjściu.\n",
    "\n",
    "### Zadanie 2\n",
    "\n",
    "Stwórz funkcję `Pole` przyjmującą minimalne i maksymalne wartości $x$ oraz $y$ i zwracającą pole prostokąta o szerokości $x_{max}-x_{min}$ i wysokości $y_{max} - y_{min}$.\n",
    "\n",
    "### Zadanie 3\n",
    "\n",
    "Stwórz funkcję `poler(trasa)` przyjmującą łańcuch znaków `trasa` i dla każdej litery w łańcuchu zmienia położenia $x, y$ od zera do finalnej wartości. W trakcie tych operacji funkcja sprawdza czy $x$ lub $y$ przyjmuje wartość minimalną lub maksymalną i zapisuje wyniki. Po wszystkich operacjach funkcja zwraca pole prostokąta określonego przez minimalne i maksymalne wartości $x$ oraz $y$."
   ]
  },
  {
   "cell_type": "code",
   "execution_count": 83,
   "metadata": {
    "collapsed": false
   },
   "outputs": [
    {
     "name": "stdout",
     "output_type": "stream",
     "text": [
      "2\n",
      "12\n"
     ]
    }
   ],
   "source": [
    "def ChangeLocation(x, y, a):\n",
    "    if a == 'g':\n",
    "        y += 1\n",
    "    if a == 'd':\n",
    "        y -= 1\n",
    "    if a == 'l':\n",
    "        x -= 1\n",
    "    if a == 'p':\n",
    "        x += 1\n",
    "    return x, y\n",
    "\n",
    "def Pole(x_min, x_max, y_min, y_max):\n",
    "    delta_x = (x_max-x_min)\n",
    "    delta_y = (y_max-y_min)\n",
    "    pole = delta_x*delta_y\n",
    "    return pole\n",
    "\n",
    "def poler(trasa):\n",
    "    \n",
    "    x = 0\n",
    "    y = 0\n",
    "    \n",
    "    x_min = 0\n",
    "    x_max = 0\n",
    "    y_min = 0\n",
    "    y_max = 0\n",
    "    \n",
    "    for a in trasa:\n",
    "        x, y = ChangeLocation(x, y, a)\n",
    "        if x < x_min:\n",
    "            x_min = x\n",
    "        if x > x_max:\n",
    "            x_max = x\n",
    "        if y < y_min:\n",
    "            y_min = y\n",
    "        if y > y_max:\n",
    "            y_max = y\n",
    "    \n",
    "    return Pole(x_min, x_max, y_min, y_max)\n",
    "\n",
    "\n",
    "print(poler(\"ggdp\"))\n",
    "print(poler(\"lllgpdddd\"))"
   ]
  }
 ],
 "metadata": {
  "kernelspec": {
   "display_name": "Python 3",
   "language": "python",
   "name": "python3"
  },
  "language_info": {
   "codemirror_mode": {
    "name": "ipython",
    "version": 3
   },
   "file_extension": ".py",
   "mimetype": "text/x-python",
   "name": "python",
   "nbconvert_exporter": "python",
   "pygments_lexer": "ipython3",
   "version": "3.6.0"
  }
 },
 "nbformat": 4,
 "nbformat_minor": 2
}
