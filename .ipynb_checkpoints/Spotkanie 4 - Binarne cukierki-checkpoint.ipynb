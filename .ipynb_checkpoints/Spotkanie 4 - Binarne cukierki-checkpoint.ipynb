{
 "cells": [
  {
   "cell_type": "markdown",
   "metadata": {},
   "source": [
    "# Zadania z OIG\n",
    "\n",
    "Poniżej przedstawię zadanie z Olimpiady Informatycznej Gimnazjalistów.\n",
    "\n",
    "### Cukierki\n",
    "\n",
    "Jaś ma cukierki N różnych rodzajów. Są one przeznaczone na jego przyjęcie urodzinowe. Chciałby zaprosić jak najwięcej kolegów, jednak nie chce, aby ktokolwiek poczuł się pokrzywdzony. Dlatego cukierki każdego rodzaju muszą zostać podzielone po równo między wszystkich gości. Oprócz tego Jaś może zjeść z każdego rodzaju co najwyżej jednego cukierka, jeśli umożliwi mu to zaproszenie większej liczby kolegów. Powiedzcie mu, ile maksymalnie może zaprosić kolegów?\n",
    "\n",
    "##### Wejście\n",
    "W pierwszym wierszu standardowego wejścia zapisano jedną liczbę całkowitą $N$ $(1 \\leq N \\leq 100)$ – liczbę rodzajów cukierków. W $i-$tym z kolejnych $N$ wierszy zapisano liczbę całkowitą $L_i$ $(2 \\leq L_i \\leq 10^4)$ – liczbę cukierków $i-$tego rodzaju.\n",
    "##### Wyjście\n",
    "W pierwszym wierszu standardowego wyjścia należy wypisać maksymalną liczbę kolegów, jaką Jasiu może zaprosić na przyjęcie.\n",
    "\n",
    "![](OIG/przyklady.png)"
   ]
  },
  {
   "cell_type": "markdown",
   "metadata": {},
   "source": [
    "## Metoda rozwiązania\n",
    "\n",
    "Okazuje się, że w zadaniu nie musimy nawet przeprowadzać faktoryzacji. Otóż proponuję, abyśmy spróbowali znaleźć największą mozliwą liczbę kolegów których możemy zaprosić na przyjęcie - będzie to oczywiście najmniejsza liczba cukierków w zbiorach. Jeśli mamy zbiór 11 cukierków a zaprosimy 12 kolegów, nie ma możliwości abyśmy mogli podzielić te cukierki odpowiednio. Zatem mamy już jakieś ograniczenie.\n",
    "\n",
    "Jaka będzie minimalna liczba kolegów? Oczywiście 1 - pomiędzy 1 kolegę możemy 'podzielić' dowolną liczbę cukierków bez reszty. Widzimy zatem, że zawsze będziemy mogli znaleźć rozwiązanie problemu.\n",
    "\n",
    "Jak sprawdzić, czy pomiędzy daną liczbę kolegów x możemy podzielić wszystkie zestawy cukierków? Otóż, sprawdzamy, czy liczba n albo n-1 dzielą się przez x bez reszty - innymi słowy, czy n%x == 0 lub (n-1)%x == 0. Jeśli wszystkie zbiory faktycznie się dzielą, mamy rozwiązanie. Jeśli nie, schodzimy z liczbą kolegów o 1 niżej i sprawdzamy ponownie.\n",
    "\n",
    "W najbardziej pesymistycznej wersji - gdy mamy 100 zestawów cukierków a maksymalna liczba kolegów wynosi 10000 - musimy wykonać liczbę porównań rzędu miliona - coś całkowicie akceptowalnego dla dzisiejszych procesorów."
   ]
  },
  {
   "cell_type": "code",
   "execution_count": 1,
   "metadata": {
    "collapsed": false
   },
   "outputs": [
    {
     "name": "stdout",
     "output_type": "stream",
     "text": [
      "10\n"
     ]
    }
   ],
   "source": [
    "values = []\n",
    "values = [11, 21, 31, 61, 101]\n",
    "\n",
    "# from random import randint\n",
    "# for i in range(100):\n",
    "#     values.append(randint(2,10000))\n",
    "\n",
    "LiczbaKolegow = min(values)\n",
    "    \n",
    "while LiczbaKolegow>1:\n",
    "    flag = True\n",
    "    for i in range(len(values)):\n",
    "        a = values[i]\n",
    "        b = a-1\n",
    "        if a%LiczbaKolegow != 0 and b%LiczbaKolegow != 0:\n",
    "            flag = False\n",
    "            break\n",
    "    if flag:\n",
    "        print(LiczbaKolegow)\n",
    "        break\n",
    "    else:\n",
    "        LiczbaKolegow -= 1\n",
    "\n",
    "# print(values)"
   ]
  },
  {
   "cell_type": "markdown",
   "metadata": {},
   "source": [
    "![](bartek.png)"
   ]
  },
  {
   "cell_type": "markdown",
   "metadata": {},
   "source": [
    "Próbowaliśmy kiedyś zrealizować słowa Bartka, z dość małym powodzeniem. Tym razem podejdziemy do problemu analitycznie.\n",
    "\n",
    "Jedną z metod rozwiązań jest posiadanie metody sprawdzania czy słowo jest słowem Bartka, po czym, jeśli nie, wykonujemy skrócenie słowa o jedną literę od końca. Powtarzamy całą procedurę tak długo, aż test Bartka nie wyjdzie pozytywny, albo nie uzyskamy zerowego łańcucha znaków (który, automatycznie, spełnia warunek Bartka).\n",
    "\n",
    "Jak sprawdzić czy słowo jest Bartka? Proponuję metodę ponumerowania wszystkich miejsc na których są litery 'a', oraz na których są litery 'b'. Oczywiście długość listy pozycji 'a' musi być równa długości listy pozycji 'b'. Dla każdej pozycji 'a' odpowiadająca pozycja 'b' na tym samym miejscu musi być wyższa - inaczej słowo nie jest Bartka.\n",
    "\n",
    "Przykład: słowo 'abcccaddbacb' będzie miało litery 'a' na pozycjach: [0,5,9], natomiast litery 'b' na pozycjach: [1,8,10]. 0 jest mniejsze od 1, 5 jest mniejsze od 8, 9 jest mniejsze od 10. Słowo 'abba' nie jest słowem Bartka: odpowiednie pozycje 'a' to [0,3], natomiast 'b' to [1,2]. Widzimy, że o ile 0 jest mniejsze od 1, to 3 jest **większe** od 2."
   ]
  },
  {
   "cell_type": "code",
   "execution_count": 13,
   "metadata": {
    "collapsed": false
   },
   "outputs": [
    {
     "data": {
      "text/plain": [
       "True"
      ]
     },
     "execution_count": 13,
     "metadata": {},
     "output_type": "execute_result"
    }
   ],
   "source": [
    "def czy_bartka(str):\n",
    "    a = []\n",
    "    b = []\n",
    "    for i in range(len(str)):\n",
    "        if str[i]=='a':\n",
    "            a.append(i)\n",
    "        if str[i]=='b':\n",
    "            b.append(i)\n",
    "    if len(a)!=len(b):\n",
    "        return False\n",
    "    flag = True\n",
    "    for i in range(len(a)):\n",
    "        if a[i]>b[i]:\n",
    "            return False\n",
    "    return True\n",
    "\n",
    "czy_bartka(\"ab\")"
   ]
  },
  {
   "cell_type": "code",
   "execution_count": null,
   "metadata": {
    "collapsed": true
   },
   "outputs": [],
   "source": [
    "str = \"abrakadabra\"\n",
    "\n"
   ]
  }
 ],
 "metadata": {
  "kernelspec": {
   "display_name": "Python 3",
   "language": "python",
   "name": "python3"
  },
  "language_info": {
   "codemirror_mode": {
    "name": "ipython",
    "version": 3
   },
   "file_extension": ".py",
   "mimetype": "text/x-python",
   "name": "python",
   "nbconvert_exporter": "python",
   "pygments_lexer": "ipython3",
   "version": "3.6.0"
  }
 },
 "nbformat": 4,
 "nbformat_minor": 2
}
