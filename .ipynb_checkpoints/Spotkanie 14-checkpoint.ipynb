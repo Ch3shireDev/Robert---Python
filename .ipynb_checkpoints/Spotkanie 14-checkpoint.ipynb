{
 "cells": [
  {
   "cell_type": "markdown",
   "metadata": {},
   "source": [
    "# Spotkanie 14 - Pozycjonowanie\n",
    "\n",
    "Załóżmy, że mamy jakiś strasznie wredny do wyśrodkowania obrazek - dla przykładu weźmy funkcję rysującą kawałek plastra miodu w jakiś skomplikowany sposób:"
   ]
  },
  {
   "cell_type": "code",
   "execution_count": 1,
   "metadata": {
    "collapsed": true
   },
   "outputs": [],
   "source": [
    "from turtle import *\n",
    "\n",
    "a = 20\n",
    "\n",
    "def hex():\n",
    "    global a\n",
    "    penup()\n",
    "    fd(a)\n",
    "    rt(120)\n",
    "    pendown()\n",
    "    for _ in range(6):\n",
    "        fd(a)\n",
    "        rt(60)\n",
    "    penup()\n",
    "    lt(120)\n",
    "    fd(-a)\n",
    "    \n",
    "def adj(t):\n",
    "    global a\n",
    "    rt(t*60)\n",
    "    fd(a)\n",
    "    rt(60)\n",
    "    fd(a)\n",
    "    lt(60+t*60)\n",
    "\n",
    "def honeycomb():\n",
    "    lt(90)\n",
    "    t = 0\n",
    "    for i in range(20):\n",
    "        hex()\n",
    "        if i<10:\n",
    "            if i%3:\n",
    "                t+=1\n",
    "            else: \n",
    "                t-=1\n",
    "        else:\n",
    "            if i%3:\n",
    "                t-=1\n",
    "            else:\n",
    "                t+=1\n",
    "\n",
    "        adj(t)\n",
    "        hex()"
   ]
  },
  {
   "cell_type": "markdown",
   "metadata": {},
   "source": [
    "Wynik:\n",
    "\n",
    "![](./honeycomb.png)"
   ]
  },
  {
   "cell_type": "markdown",
   "metadata": {},
   "source": [
    "Jak widać, obrazek byłby koszmarny do jakiegokolwiek wyśrodkowania, nie mówiąc już o próbie wyskalowania go tak, aby miał ustaloną szerokość. Ale - jest pewna nadzieja. Możemy środkowanie przeprowadzić numerycznie. Od czego zaczniemy?\n",
    "\n",
    "Zastosujemy kilka ogólnie znanych faktów. Po pierwsze wiemy, że rozmiary obrazka zmieniają się liniowo z `a` - jeśli `a` zwiększymy 2 razy to rozmiary obrazka również powiększą się dwa razy, a jeśli `a` jest równe zero to obrazek również będzie miał zerową szerokość. Super - ale jak poznać szerokość obrazka?\n",
    "\n",
    "Z pomocą przychodzi funkcja `position()` (albo `pos()` dla skrótu). `pos()` zwraca parę `(x,y)`:"
   ]
  },
  {
   "cell_type": "code",
   "execution_count": 2,
   "metadata": {},
   "outputs": [
    {
     "name": "stdout",
     "output_type": "stream",
     "text": [
      "0.0 0.0\n"
     ]
    }
   ],
   "source": [
    "x, y = pos()\n",
    "print(x,y)"
   ]
  },
  {
   "cell_type": "markdown",
   "metadata": {},
   "source": [
    "Jeśli bardzo nam zależy na tylko jednej zmiennej, możemy skorzystać z funkcji `xcor()`, `ycor()`:"
   ]
  },
  {
   "cell_type": "code",
   "execution_count": 3,
   "metadata": {},
   "outputs": [
    {
     "data": {
      "text/plain": [
       "(0.0, 0.0)"
      ]
     },
     "execution_count": 3,
     "metadata": {},
     "output_type": "execute_result"
    }
   ],
   "source": [
    "xcor(), ycor()"
   ]
  },
  {
   "cell_type": "markdown",
   "metadata": {},
   "source": [
    "Ok. Jak zatem zmierzyć rozmiary naszego obrazka? Możemy zmodyfikować funkcje tak, aby co wierzchołek (czyli punkt skrajny) zapisywały aktualne położenia żółwia:"
   ]
  },
  {
   "cell_type": "code",
   "execution_count": 4,
   "metadata": {
    "collapsed": true
   },
   "outputs": [],
   "source": [
    "posx, posy = [], []\n",
    "\n",
    "def hex():\n",
    "    global a\n",
    "    global posx, posy #dorzucamy zmienne globalne\n",
    "    penup()\n",
    "    fd(a)\n",
    "    rt(120)\n",
    "    pendown()\n",
    "    for _ in range(6):\n",
    "        fd(a)\n",
    "        x, y = pos()\n",
    "        posx += [x]\n",
    "        posy += [y]\n",
    "        rt(60)\n",
    "    penup()\n",
    "    lt(120)\n",
    "    fd(-a)"
   ]
  },
  {
   "cell_type": "markdown",
   "metadata": {},
   "source": [
    "Uzyskujemy tablice zawierające po 240 wartości każda. Za pomocą funkcji `min, max` możemy uzyskać wartości minimalne i maksymalne pozycji x:\n",
    "\n",
    "```min(posx), max(posx)```\n",
    "\n",
    "Dla aktualnych warunków (`a = 20`) dostajemy wartości:\n",
    "\n",
    "```min(posx) = -34.641```\n",
    "\n",
    "```max(posx) = 277.128```\n",
    "\n",
    "```max(posx) - min(posx) = 311.769```"
   ]
  },
  {
   "cell_type": "markdown",
   "metadata": {},
   "source": [
    "Jeśli ustawimy `a` dwa razy większe (`a = 40`), otrzymujemy:\n",
    "\n",
    "```max(posx)-min(posx) = 623.538```"
   ]
  },
  {
   "cell_type": "markdown",
   "metadata": {},
   "source": [
    "Widać zatem, że całkowita szerokość obrazka skaluje się razem z szerokością boku `a`. Super! Jak zatem znaleźć wartość `a` jeśli chcemy szerokość dokładnie 600?\n",
    "\n",
    "Pomyślmy: jeśli zwiększymy jedną długość dwukrotnie, to druga długość też rośnie dwukrotnie, zatem ich proporcja jest stała - iloraz $ a : L $ (gdzie L to całkowita szerokość) musi być stały. W tym wypadku:\n",
    "\n",
    "$$\\frac aL = 0.06415003 = \\alpha$$\n",
    "\n",
    "Ok. Chcemy by L było równe 600. Zatem:\n",
    "\n",
    "$$a = \\alpha \\cdot L = 0.06415003\\cdot 600 = 38.490018$$\n",
    "\n",
    "Uzyskujemy szerokość $a$ z oszałamiającą dokładnością!"
   ]
  },
  {
   "cell_type": "markdown",
   "metadata": {},
   "source": [
    "## ...a co z wyśrodkowaniem?\n",
    "\n",
    "No właśnie - pozostała kwestia położenia początkowego. Możemy założyć, że położenie początkowe będzie wprost proporcjonalne do ustalonej szerokości $a$. Chcielibyśmy, by obrazek był na środku - tj. wartości\n",
    "\n",
    "$$min(posx) = -L_x/2$$\n",
    "$$max(posx) =  L_x/2$$\n",
    "$$min(posy) = -L_y/2$$\n",
    "$$min(posy) =  L_y/2$$\n",
    "\n",
    "Jeśli położenie początkowe ustalimy na $(\\Delta x, \\Delta y)$:\n",
    "\n",
    "`setpos(dx,dy)`\n",
    "\n",
    "spodziewamy się, że `max(posx)` zmieni się o $\\Delta x$ - tak samo z `min(posx)`, `max(posy)` oraz `min(posy)`. Chcemy, aby:\n",
    "\n",
    "$$max(posx) + \\Delta x = L_x/2$$\n",
    "$$max(posy) + \\Delta y = L_y/2$$\n",
    "\n",
    "W ten sposób znajdujemy, że:\n",
    "\n",
    "$$\\Delta x = L_x/2 - max(posx),\\qquad \\Delta y = L_y/2-max(posy)$$\n",
    "\n",
    "No dobra, ale co z tego że znamy konkretną wartość teraz, jeśli zaraz dopasujemy inny parametr `a` i parametry się pozmieniają? Spokojnie, na to też mamy rozwiązanie - wiemy, że propocja szerokości jest stałą wartością, zatem aby uzyskać nowe $\\Delta x$ w jednostkach `a`, stosujemy:\n",
    "\n",
    "$$ \\Delta x = \\Delta x_0/ a_0 \\cdot a$$\n",
    "\n",
    "gdzie $\\Delta x_0$ było starym przesunięciem a $a_0$ - starym parametrem szerokości."
   ]
  },
  {
   "cell_type": "markdown",
   "metadata": {},
   "source": [
    "## Eksperymentalne dopasowanie\n",
    "\n",
    "W ramach ćwiczenia rozwiążemy poniższe zadanie i dopasujemy układ tak, aby rysunek wyświetlał się na środku ekranu i miał wysokość 400 pikseli.\n",
    "\n",
    "![](./warstwy.png)\n",
    "\n",
    "Następnie rozwiążemy to zadanie ze zmienionymi warunkami - piszemy procedurę `GWIAZDA(n)`, która tworzy n-ramienną gwiazdę o wymiarach 400x400.\n",
    "\n",
    "![](./gwiazda.png)"
   ]
  }
 ],
 "metadata": {
  "kernelspec": {
   "display_name": "Python 3",
   "language": "python",
   "name": "python3"
  },
  "language_info": {
   "codemirror_mode": {
    "name": "ipython",
    "version": 3
   },
   "file_extension": ".py",
   "mimetype": "text/x-python",
   "name": "python",
   "nbconvert_exporter": "python",
   "pygments_lexer": "ipython3",
   "version": "3.6.3"
  }
 },
 "nbformat": 4,
 "nbformat_minor": 2
}
