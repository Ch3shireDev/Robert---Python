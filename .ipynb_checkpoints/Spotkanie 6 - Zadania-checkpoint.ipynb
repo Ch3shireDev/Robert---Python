{
 "cells": [
  {
   "cell_type": "markdown",
   "metadata": {},
   "source": [
    "# Spotkanie 6 - Zadania"
   ]
  },
  {
   "cell_type": "markdown",
   "metadata": {},
   "source": [
    "![](Logia/14_03.png)"
   ]
  },
  {
   "cell_type": "markdown",
   "metadata": {},
   "source": [
    "### Rozwiązanie\n",
    "\n",
    "Na wejściu dane są dwie trasy w formacie litera-cyfra powtórzone n razy. Każda z tych tras daje informacje na temat kosztów dojazdu do centrum. Gdyby dwie osoby jechały z zupełnie różnych miejsc różnymi (nieprzecinającymi się) trasami, znalezienie odpowiedzi sprowadzałoby się do zsumowania cyfr. Jednak zdarza się, że trasy dwóch osób w którymś momencie mogą się przeciąć - wtedy nie ma powodu spotykania się w centrum, osoby mogą spotkać się w miejscu przecięcia.\n",
    "\n",
    "Proponowany algorytm:\n",
    "\n",
    "1. Zapisać informacje wejściowe w postaci par tablic. W jednej tablicy niech będą litery, w drugiej - liczby.\n",
    "2. Sprawdzić, czy którakolwiek litera z jednej tablicy powtarza się w drugiej tablicy. Jeśli nie, wynikiem będzie suma wszystkich liczb (kosztów przejazdu). Jeśli tak, wynikiem będzie suma liczb do pierwszego przecięcia."
   ]
  },
  {
   "cell_type": "markdown",
   "metadata": {},
   "source": [
    "![](Logia/16_03.png)"
   ]
  },
  {
   "cell_type": "markdown",
   "metadata": {},
   "source": [
    "### Rozwiązanie\n",
    "\n",
    "Przetłumaczmy zadanie na język Pythona - mamy tablicę $n\\times n$ w której elementy mają wartości 0 lub 1. W pierwszej kolejności należy stworzyć funkcję która dane wejściowe przepisuje na tego typu tablicę. Następnie powinniśmy stworzyć funkcję, która znajduje dla danej pozycji liczbę sąsiadów. Ostatnim elementem zadania jest sprawdzenie maksymalnej liczby sąsiadów dla niezabudowanych działek i zwrócenie listy pozycji niezabudowanych działek z ową liczbą sąsiadów."
   ]
  },
  {
   "cell_type": "markdown",
   "metadata": {},
   "source": [
    "![](Logia/15_03.png)"
   ]
  },
  {
   "cell_type": "markdown",
   "metadata": {},
   "source": [
    "### Rozwiązanie\n",
    "\n",
    "Po pierwsze, musimy na podstawie pierwszego argumentu wytyczyć zakres w jakim operujemy. Jeśli pierwszy argument jest równy 1, oznacza to liczbę 1-cyfrową, czyli liczbę z zakresu od 1 do 10 (bez 10). Dla liczby $n$ będzie to zakres od $10^{n-1}$ do $10^n$.\n",
    "\n",
    "Następnie sprawdzamy w tym zakresie wszystkie liczby na obecność danej cyfry. Najprostszą metodą jest przetłumaczenie liczby na ciąg znaków funkcją `str` a następnie przetestowanie listy na obecność danego znaku:"
   ]
  },
  {
   "cell_type": "code",
   "execution_count": 6,
   "metadata": {
    "collapsed": false
   },
   "outputs": [
    {
     "name": "stdout",
     "output_type": "stream",
     "text": [
      "ciasteczko\n"
     ]
    }
   ],
   "source": [
    "if str(3) in str(123):\n",
    "    print(\"ciasteczko\")"
   ]
  },
  {
   "cell_type": "markdown",
   "metadata": {},
   "source": [
    "# Zadania domowe\n",
    "\n",
    "### Zadanie 1\n",
    "\n",
    "Napisz program który znajdzie wszystkie liczby podzielne przez 7, ale nie będące wielokrotnością 5, w zakresie od 2000 do 3200. Aby sprawdzić poprawność rozwiązania, sprawdź czy suma jest równa 358631."
   ]
  },
  {
   "cell_type": "markdown",
   "metadata": {},
   "source": [
    "### Zadanie 2\n",
    "\n",
    "Napisz program który przyjmuje na wejściu ciąg liczb oddzielonych przecinkami, a wypisuje na ekran listę tych samych liczb.\n",
    "\n",
    "Podpowiedzi:\n",
    "- aby skłonić Pythona do przyjmowania argumentów z konsoli, posłuż się funkcją `input()`:"
   ]
  },
  {
   "cell_type": "code",
   "execution_count": 2,
   "metadata": {
    "collapsed": false
   },
   "outputs": [
    {
     "name": "stdout",
     "output_type": "stream",
     "text": [
      "34,67,55,33,12,98\n",
      "34,67,55,33,12,98\n"
     ]
    }
   ],
   "source": [
    "x = input()\n",
    "print(x)"
   ]
  },
  {
   "cell_type": "markdown",
   "metadata": {},
   "source": [
    "- rozdzielanie ciągu znaków na kilka podciągów wykonuje się przy użyciu metody `split`:"
   ]
  },
  {
   "cell_type": "code",
   "execution_count": 4,
   "metadata": {
    "collapsed": false
   },
   "outputs": [
    {
     "data": {
      "text/plain": [
       "['abc', 'cde']"
      ]
     },
     "execution_count": 4,
     "metadata": {},
     "output_type": "execute_result"
    }
   ],
   "source": [
    "x = \"abcXcde\"\n",
    "x.split('X')"
   ]
  },
  {
   "cell_type": "markdown",
   "metadata": {},
   "source": [
    "### Zadanie 3\n",
    "\n",
    "Stwórz funkcję `suma(x)` sumującą wszystkie cyfry w podanej liczbie.\n",
    "\n",
    "Przykłady:\n",
    "\n",
    "- Wynikiem suma(123) powinna być 6\n",
    "- Wynikiem suma(456) powinno być 15\n",
    "\n",
    "Podpowiedzi:\n",
    "\n",
    "- Konwersję z liczby do stringa wykonuje się funkcją `str`:"
   ]
  },
  {
   "cell_type": "code",
   "execution_count": 5,
   "metadata": {
    "collapsed": false
   },
   "outputs": [
    {
     "data": {
      "text/plain": [
       "'123'"
      ]
     },
     "execution_count": 5,
     "metadata": {},
     "output_type": "execute_result"
    }
   ],
   "source": [
    "str(123)"
   ]
  },
  {
   "cell_type": "markdown",
   "metadata": {},
   "source": [
    "- Łańcuch znaków można przekonwertować na listę za pomocą funkcji `list`:"
   ]
  },
  {
   "cell_type": "code",
   "execution_count": 6,
   "metadata": {
    "collapsed": false
   },
   "outputs": [
    {
     "data": {
      "text/plain": [
       "['a', 'b', 'c']"
      ]
     },
     "execution_count": 6,
     "metadata": {},
     "output_type": "execute_result"
    }
   ],
   "source": [
    "list('abc')"
   ]
  },
  {
   "cell_type": "markdown",
   "metadata": {},
   "source": [
    "- Konwersja ze znaku do liczby jest wykonywana przy użyciu funkcji `int`:"
   ]
  },
  {
   "cell_type": "code",
   "execution_count": 7,
   "metadata": {
    "collapsed": false
   },
   "outputs": [
    {
     "data": {
      "text/plain": [
       "5"
      ]
     },
     "execution_count": 7,
     "metadata": {},
     "output_type": "execute_result"
    }
   ],
   "source": [
    "int('5')"
   ]
  },
  {
   "cell_type": "markdown",
   "metadata": {},
   "source": [
    "### Zadanie 4\n",
    "\n",
    "Korzystając z pętli `while` napisz grę tekstową polegającą na zgadywaniu liczby z zakresu od 1 do 1000. Przy próbie zgadywania program mówi graczowi czy wybrał liczbę za niską czy za wysoką. W przypadku zgadnięcia program wypisuje gratulacje i kończy działanie.\n",
    "\n",
    "Przykład działania:\n",
    "\n",
    "- Program: 'Witaj! Zgadnij liczbę od 1 do 1000!'\n",
    "- Użytkownik: 500\n",
    "- Program 'Za mało!'\n",
    "- Użytkownik: 700\n",
    "- Program: 'Za dużo!'\n",
    "- Użytkownik 600\n",
    "- Program: 'Brawo! Odpowiedź to 600!'\n",
    "\n",
    "Podpowiedzi:\n",
    "\n",
    "- Generowanie liczby losowej z przedziału wykonuje się za pomocą funkcji randint z modułu random:"
   ]
  },
  {
   "cell_type": "code",
   "execution_count": 8,
   "metadata": {
    "collapsed": false
   },
   "outputs": [
    {
     "data": {
      "text/plain": [
       "5"
      ]
     },
     "execution_count": 8,
     "metadata": {},
     "output_type": "execute_result"
    }
   ],
   "source": [
    "from random import randint\n",
    "randint(2,5)"
   ]
  },
  {
   "cell_type": "markdown",
   "metadata": {},
   "source": [
    "### Zadanie 5\n",
    "\n",
    "Wymieniając pierwsze 6 liczb pierwszych: 2, 3, 5, 7, 11, 13 stwierdzamy, że szóstą liczbą pierwszą jest 13. Znajdź 10,001 (dziesięciotysięczną-pierwszą) liczbę pierwszą.\n",
    "\n",
    "Podpowiedź: kolejna liczba pierwsza nie jest podzielna przez żadną z poprzednich liczb pierwszych; jeśli liczba nie jest podzielna przez żadną liczbę pierwszą od niej mniejszą, to liczba jest liczbą pierwszą."
   ]
  },
  {
   "cell_type": "markdown",
   "metadata": {},
   "source": [
    "### Zadanie 6\n",
    "\n",
    "*Trójką pitagorejską* nazwiemy trzy liczbhy naturalne $a, b, c$ takie, dla których spełniona jest równość:\n",
    "\n",
    "$$a^2+b^2=c^2$$\n",
    "\n",
    "Przykład: wiemy, że (3,4,5) jest trójką pitagorejską, ponieważ $3^2+4^2=5^2$.\n",
    "\n",
    "Znajdź taką trójkę pitagorejską, dla której $a+b+c=1000$."
   ]
  },
  {
   "cell_type": "markdown",
   "metadata": {},
   "source": [
    "### Zadanie 7\n",
    "\n",
    "Zasady Lotto są następujące: gracz wybiera 6 liczb z 49. Następnie mechanizm losujący generuje 6 liczb z powyższego zakresu. Jeśli 3 liczby się pokrywają, gracz wygrywa nagrodę 24 zł. Jeśli 4 liczby się pokrywają, wygrana jest rzędu 100 zł. Jeśli 5 liczb się pokrywa, wygrana wynosi ok. 5000 zł. W przypadku trafienia wszystkich 6 liczb, gracz wygrywa pełną pulę (ew. dzieloną pomiędzy wielu zwycięzców).\n",
    "\n",
    "Napisz program symulujący grę w totolotka. Sprawdź, ile razy należy powtórzyć rozgrywkę aby trafić wszystkie 6 liczb.\n",
    "\n",
    "Podpowiedzi:\n",
    "- Szansa trafienia dowolnego ciągu sześciu różnych liczb jest równa szansie trafienia liczb od 1 do 6.\n",
    "- Najprostszą metodą losowania 6 liczb jest przetasowanie listy metodą `shuffle` i wzięcie podciągu 6 pierwszych elementów:"
   ]
  },
  {
   "cell_type": "code",
   "execution_count": 19,
   "metadata": {
    "collapsed": false
   },
   "outputs": [
    {
     "data": {
      "text/plain": [
       "[23, 25, 43, 30, 24, 21]"
      ]
     },
     "execution_count": 19,
     "metadata": {},
     "output_type": "execute_result"
    }
   ],
   "source": [
    "from random import shuffle\n",
    "\n",
    "tab = [i for i in range(1,49+1)]\n",
    "shuffle(tab)\n",
    "six = tab[0:6] #elementy od 0 do 6, bez 6\n",
    "six"
   ]
  }
 ],
 "metadata": {
  "kernelspec": {
   "display_name": "Python 3",
   "language": "python",
   "name": "python3"
  },
  "language_info": {
   "codemirror_mode": {
    "name": "ipython",
    "version": 3
   },
   "file_extension": ".py",
   "mimetype": "text/x-python",
   "name": "python",
   "nbconvert_exporter": "python",
   "pygments_lexer": "ipython3",
   "version": "3.6.0"
  }
 },
 "nbformat": 4,
 "nbformat_minor": 2
}
