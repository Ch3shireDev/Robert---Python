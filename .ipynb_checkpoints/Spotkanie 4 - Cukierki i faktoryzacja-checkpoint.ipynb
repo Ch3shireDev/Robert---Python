{
 "cells": [
  {
   "cell_type": "markdown",
   "metadata": {},
   "source": [
    "# Zadania z OIG\n",
    "\n",
    "Poniżej przedstawię kilka zadań przygotowawczych do Olimpiady Informatycznej Gimnazjalistów.\n",
    "\n",
    "### Cukierki\n",
    "\n",
    "Jaś ma cukierki N różnych rodzajów. Są one przeznaczone na jego przyjęcie urodzinowe. Chciałby zaprosić jak najwięcej kolegów, jednak nie chce, aby ktokolwiek poczuł się pokrzywdzony. Dlatego cukierki każdego rodzaju muszą zostać podzielone po równo między wszystkich gości. Oprócz tego Jaś może zjeść z każdego rodzaju co najwyżej jednego cukierka, jeśli umożliwi mu to zaproszenie większej liczby kolegów. Powiedzcie mu, ile maksymalnie może zaprosić kolegów?\n",
    "\n",
    "##### Wejście\n",
    "W pierwszym wierszu standardowego wejścia zapisano jedną liczbę całkowitą $N$ $(1 \\leq N \\leq 100)$ – liczbę rodzajów cukierków. W $i-$tym z kolejnych $N$ wierszy zapisano liczbę całkowitą $L_i$ $(2 \\leq L_i \\leq 10^4)$ – liczbę cukierków $i-$tego rodzaju.\n",
    "##### Wyjście\n",
    "W pierwszym wierszu standardowego wyjścia należy wypisać maksymalną liczbę kolegów, jaką Jasiu może zaprosić na przyjęcie.\n",
    "\n",
    "![](OIG/przyklady.png)"
   ]
  },
  {
   "cell_type": "markdown",
   "metadata": {},
   "source": [
    "### Propozycja rozwiązania\n",
    "\n",
    "Jeśli chcemy podzielić zbiór $x$ elementów na $y$ równych części, musimy sprawdzić, czy $y$ jest dzielnikiem $x$. Jednak - znajdywanie wszystkich dzielników jest bardzo intensywnym zadaniem. Znacznie lepiej jest znaleźć rozkład na liczby pierwsze, po czym porównywać wśród wszystkich $N$ zbiorów które elementy się powtarzają.\n",
    "\n",
    "Przykład: mamy zbiory 12 oraz 42 elementowe. Przeprowadzamy faktoryzację każdego z nich: $12 = 2\\cdot2\\cdot3$, natomiast $42=2\\cdot3\\cdot7$. Powtarzające się dzielniki to $2$ oraz $3$ - stąd wiemy, że największy wspólny dzielnik obydwu liczb będzie równy $2\\cdot3=6$.\n",
    "\n",
    "Jak stworzyć funkcję faktoryzującą? Jednym ze sposobów może być próba dzielenia liczby przez kolejne liczby pierwsze, uzyskane np. z sita Eratostenesa."
   ]
  },
  {
   "cell_type": "code",
   "execution_count": 1,
   "metadata": {
    "collapsed": false
   },
   "outputs": [
    {
     "name": "stdout",
     "output_type": "stream",
     "text": [
      "Zaczynamy faktoryzacje...\n",
      "Testuje 2 na 84\n",
      "Testuje 2 na 42\n",
      "Testuje 2 na 21\n",
      "Testuje 3 na 21\n",
      "Testuje 2 na 7\n",
      "Testuje 3 na 7\n",
      "Testuje 5 na 7\n",
      "Testuje 7 na 7\n",
      "[2, 2, 3, 7]\n"
     ]
    }
   ],
   "source": [
    "primes = []\n",
    "\n",
    "N = 10000\n",
    "tab = [True for i in range(N)]\n",
    "\n",
    "for i in range(2,N-1):\n",
    "\tif tab[i]:\n",
    "\t\tprimes.append(i)\n",
    "\t\tfor j in range(2,N//i):\n",
    "\t\t\ttab[i*j] = False\n",
    "\n",
    "def faktoryzuj(n):\n",
    "\tfactors = []\n",
    "\twhile n>1:\n",
    "\t\tfor p in primes:\n",
    "\t\t\tprint(\"Testuje\", p, \"na\",n)\n",
    "\t\t\tif p>n:\n",
    "\t\t\t\tbreak\n",
    "\t\t\tif n%p == 0:\n",
    "\t\t\t\tfactors.append(p)\n",
    "\t\t\t\tn = n//p\n",
    "\t\t\t\tbreak\n",
    "\treturn factors\n",
    "\n",
    "print(\"Zaczynamy faktoryzacje...\")\n",
    "print(faktoryzuj(84))"
   ]
  },
  {
   "cell_type": "markdown",
   "metadata": {},
   "source": [
    "# Tworzenie projektów\n",
    "\n",
    "Tym razem coś trochę innego - nauczymy się tworzyć projekty programistyczne, w środowisku zorientowanym obiektowo"
   ]
  },
  {
   "cell_type": "code",
   "execution_count": null,
   "metadata": {
    "collapsed": true
   },
   "outputs": [],
   "source": []
  }
 ],
 "metadata": {
  "kernelspec": {
   "display_name": "Python 3",
   "language": "python",
   "name": "python3"
  },
  "language_info": {
   "codemirror_mode": {
    "name": "ipython",
    "version": 3
   },
   "file_extension": ".py",
   "mimetype": "text/x-python",
   "name": "python",
   "nbconvert_exporter": "python",
   "pygments_lexer": "ipython3",
   "version": "3.6.0"
  }
 },
 "nbformat": 4,
 "nbformat_minor": 2
}
