{
 "cells": [
  {
   "cell_type": "markdown",
   "metadata": {},
   "source": [
    "# Spotkanie 12\n",
    "\n",
    "## Zadanie 1\n",
    "![](./Logia/etap2/2011/zad1.png)"
   ]
  },
  {
   "cell_type": "markdown",
   "metadata": {},
   "source": [
    "![](./Logia/etap2/2011/zad2.png)"
   ]
  },
  {
   "cell_type": "markdown",
   "metadata": {},
   "source": [
    "![](./Logia/etap2/2011/zad3.png)"
   ]
  },
  {
   "cell_type": "markdown",
   "metadata": {},
   "source": [
    "## Podpowiedzi\n",
    "\n"
   ]
  },
  {
   "cell_type": "code",
   "execution_count": 15,
   "metadata": {},
   "outputs": [
    {
     "data": {
      "text/plain": [
       "1"
      ]
     },
     "execution_count": 15,
     "metadata": {},
     "output_type": "execute_result"
    }
   ],
   "source": [
    "def distance(a, b):\n",
    "    return abs(a[0]-b[0])+abs(a[1]-b[1])\n",
    "\n",
    "def pionek(w,p,c):\n",
    "    h = len(p)//w\n",
    "    tab = [p[h*i:h*(i+1)] for i in range(w)]\n",
    "    \n",
    "    pos = []\n",
    "    \n",
    "    for x in range(w):       \n",
    "        for y in range(h):\n",
    "            if tab[x][y] == str(c):\n",
    "                pos += [(x,y)]\n",
    "    \n",
    "    distances = []\n",
    "    \n",
    "    for i in range(len(pos)):\n",
    "        for j in range(i):\n",
    "            distances += [distance(pos[i],pos[j])]\n",
    "            \n",
    "    return min(distances)\n",
    "            \n",
    "pionek(2,\"444474744474\",7)"
   ]
  },
  {
   "cell_type": "code",
   "execution_count": null,
   "metadata": {
    "collapsed": true
   },
   "outputs": [],
   "source": []
  }
 ],
 "metadata": {
  "kernelspec": {
   "display_name": "PythonX",
   "language": "python",
   "name": "other-env"
  },
  "language_info": {
   "codemirror_mode": {
    "name": "ipython",
    "version": 3
   },
   "file_extension": ".py",
   "mimetype": "text/x-python",
   "name": "python",
   "nbconvert_exporter": "python",
   "pygments_lexer": "ipython3",
   "version": "3.7.0a2"
  }
 },
 "nbformat": 4,
 "nbformat_minor": 2
}
