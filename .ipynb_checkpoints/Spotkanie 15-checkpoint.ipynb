{
 "cells": [
  {
   "cell_type": "markdown",
   "metadata": {},
   "source": [
    "# Spotkanie 15\n",
    "\n",
    "## Zadanie 1 (Logia 2007)\n",
    "\n",
    "![](./Logia/etap2/2007/zad1.png)"
   ]
  },
  {
   "cell_type": "markdown",
   "metadata": {},
   "source": [
    "### Podpowiedzi\n",
    "\n",
    "1. Napisz funkcję rysującą na ekranie wybrany trójkąt w konfiguracji góra lub dół.\n",
    "2. napisz funkcję rysującą n takich trójkątów na przemian do góry i do dołu w zależności od danych początkowych - listy elementów o wartościach $1, 2, 4, 8$.\n",
    "3. Napisz funkcję rozkładającą dowolną liczbę na najkrótszą możliwą sumę $1, 2, 4, 8$.\n",
    "4. Napisz ostateczną funkcję tworzącą trójkąty z danej liczby."
   ]
  },
  {
   "cell_type": "markdown",
   "metadata": {},
   "source": [
    "## Zadanie 2 (Logia 2007)\n",
    "\n",
    "![](./Logia/etap2/2007/zad2.png)"
   ]
  },
  {
   "cell_type": "markdown",
   "metadata": {},
   "source": [
    "### Podpowiedzi\n",
    "\n",
    "1. Napisz funkcję znajdującą pozycję pierwszej samogłoski."
   ]
  },
  {
   "cell_type": "markdown",
   "metadata": {},
   "source": [
    "## Zadanie 3 (Logia 2007)\n",
    "\n",
    "![](./Logia/etap2/2007/zad3.png)"
   ]
  },
  {
   "cell_type": "markdown",
   "metadata": {},
   "source": [
    "### Podpowiedzi\n",
    "\n",
    "Zadanie można rozwiązać na dwa sposoby - pieruńsko trudny i pieruńsko prosty. Pieruńsko trudny zakłada stworzenie operacji dodawania od początku i rozważenia wszystkich przypadków w dodawaniu pod kreską. Pieruńsko prosty zakłada inteligentne skorzystanie z wewnętrznych funkcji Pythona - zamiany liter na cyfry oraz zamiany ciągu cyfr na liczbę (funkcja `int`). Po przeprowadzeniu operacji dodawania liczba może być zamieniona na ciąg cyfr (funkcja `str`) które następnie są zamieniane na ciąg liter."
   ]
  }
 ],
 "metadata": {
  "kernelspec": {
   "display_name": "Python 3",
   "language": "python",
   "name": "python3"
  },
  "language_info": {
   "codemirror_mode": {
    "name": "ipython",
    "version": 3
   },
   "file_extension": ".py",
   "mimetype": "text/x-python",
   "name": "python",
   "nbconvert_exporter": "python",
   "pygments_lexer": "ipython3",
   "version": "3.6.3"
  }
 },
 "nbformat": 4,
 "nbformat_minor": 2
}
