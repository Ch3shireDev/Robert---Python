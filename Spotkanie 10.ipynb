{
 "cells": [
  {
   "cell_type": "markdown",
   "metadata": {},
   "source": [
    "# Spotkanie 10\n",
    "\n",
    "Tym razem zajmiemy się Logią 2017, razem z jednym zadaniem z 2010."
   ]
  },
  {
   "cell_type": "markdown",
   "metadata": {},
   "source": [
    "## Zadanie 1\n",
    "![](./Logia/etap2/2010/zad1.png)"
   ]
  },
  {
   "cell_type": "markdown",
   "metadata": {},
   "source": [
    "## Zadanie 2\n",
    "![](./Logia/etap2/2017/zad1.png)"
   ]
  },
  {
   "cell_type": "markdown",
   "metadata": {},
   "source": [
    "### Podpowiedzi\n",
    "\n",
    "1. Stwórz procedurę rysującą pojedynczą kolumnę z pięcioma żółtymi kwadratami.\n",
    "2. Stwórz procedurę przyjmującą tablicę pięciu zer i jedynek i rysującą żółte lub niebieskie kwadraty w zależności od liczby na danej pozycji.\n",
    "4. Stwórz procedurę która zamiast pozycji przyjmuje literę z powyższej tabeli.\n",
    "5. Stwórz kolejną procedurę która rysuje serię kolumn zamiast pojedynczej.\n",
    "6. Edytuj powyższą procedurę tak, aby rysunek spełniał warunki szerokości i wysokości."
   ]
  },
  {
   "cell_type": "markdown",
   "metadata": {},
   "source": [
    "## Zadanie 3\n",
    "![](./Logia/etap2/2017/zad3.png)"
   ]
  },
  {
   "cell_type": "code",
   "execution_count": null,
   "metadata": {
    "collapsed": true
   },
   "outputs": [],
   "source": []
  }
 ],
 "metadata": {
  "kernelspec": {
   "display_name": "Python 3",
   "language": "python",
   "name": "python3"
  },
  "language_info": {
   "codemirror_mode": {
    "name": "ipython",
    "version": 3
   },
   "file_extension": ".py",
   "mimetype": "text/x-python",
   "name": "python",
   "nbconvert_exporter": "python",
   "pygments_lexer": "ipython3",
   "version": "3.6.2"
  }
 },
 "nbformat": 4,
 "nbformat_minor": 2
}
