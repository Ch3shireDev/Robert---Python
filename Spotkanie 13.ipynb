{
 "cells": [
  {
   "cell_type": "markdown",
   "metadata": {},
   "source": [
    "# Logia 2013\n",
    "\n",
    "![](./Logia/etap2/2013/zad1.png)"
   ]
  },
  {
   "cell_type": "markdown",
   "metadata": {},
   "source": [
    "## Podpowiedzi\n",
    "\n",
    "- Stwórz funkcję która dla danego alfabetu i danego klucza powie nam, jak ma zostać zaszyfrowane dane słowo.\n",
    "- Stwórz tablicę kolejnych zaszyfrowanych słów będącą reprezeentacją mozaiki."
   ]
  },
  {
   "cell_type": "markdown",
   "metadata": {},
   "source": [
    "![](./Logia/etap2/2013/zad2.png)"
   ]
  },
  {
   "cell_type": "markdown",
   "metadata": {},
   "source": [
    "![](./Logia/etap2/2013/zad3.png)"
   ]
  },
  {
   "cell_type": "markdown",
   "metadata": {},
   "source": [
    "## Podpowiedzi\n",
    "\n",
    "Zadanie na pierwszy rzut oka może wydawać się od skomplikowanego do niemal niemożliwego. Okazuje się jednak, że możemy sobie poradzić z generowaniem trójkąta Pascala przez bardzo prostą analizę. Otóż, spójrzmy - każdy wiersz zaczyna się i kończy 1, natomiast liczby pomiędzy jedynkami stanowią sumy liczb powyżej z lewej i prawej strony. O wierszach 1 i 2 naprawdę niewiele można powiedzieć (odpowiada to potęgom $(a+b)^0$ oraz $(a+b)^1$), natomiast wiersze od 3 w dół mają już interesującą strukturę.\n",
    "\n",
    "- Dla dwóch tablic A,B o n elementach stwórz tablicę sum A[i]+B[i+1]"
   ]
  },
  {
   "cell_type": "code",
   "execution_count": 6,
   "metadata": {},
   "outputs": [
    {
     "data": {
      "text/plain": [
       "6"
      ]
     },
     "execution_count": 6,
     "metadata": {},
     "output_type": "execute_result"
    }
   ],
   "source": [
    "def pascal(w,p):\n",
    "    tab = [1]\n",
    "    for i in range(w-1):\n",
    "        tab = [1]+[tab[i]+tab[i+1] for i in range(len(tab)-1)]+[1]\n",
    "    return tab[p-1]\n",
    "pascal(5,3)"
   ]
  }
 ],
 "metadata": {
  "kernelspec": {
   "display_name": "Python 3",
   "language": "python",
   "name": "python3"
  },
  "language_info": {
   "codemirror_mode": {
    "name": "ipython",
    "version": 3
   },
   "file_extension": ".py",
   "mimetype": "text/x-python",
   "name": "python",
   "nbconvert_exporter": "python",
   "pygments_lexer": "ipython3",
   "version": "3.6.3"
  }
 },
 "nbformat": 4,
 "nbformat_minor": 2
}
